{
  "nbformat": 4,
  "nbformat_minor": 0,
  "metadata": {
    "colab": {
      "name": "text.ipynb",
      "provenance": [],
      "collapsed_sections": [
        "bVJxiIjdnK86",
        "M-QCtVfa5R2O",
        "PXzFr33o0znC",
        "ZQgLb0_hnIB0",
        "PrDYRAGbDnt5",
        "WCTV8H89--CN",
        "GytAUt5IU0bR",
        "F7vY1zIahfjF",
        "NHXfGdSAC4D2",
        "B-Us6D1WEus4"
      ],
      "toc_visible": true
    },
    "kernelspec": {
      "display_name": "Python 3",
      "name": "python3"
    },
    "accelerator": "GPU"
  },
  "cells": [
    {
      "cell_type": "markdown",
      "metadata": {
        "id": "bVJxiIjdnK86"
      },
      "source": [
        "#Preprocessing Functions"
      ]
    },
    {
      "cell_type": "code",
      "metadata": {
        "id": "nVAJjPQkAZHG"
      },
      "source": [
        "# https://drive.google.com/drive/folders/1IpwLxEhiCoKUOlIP_ZDIzntAjjfuwH_k?usp=sharing\n",
        "# https://drive.google.com/file/d/1vRLeIHv1YJjfxzPty_yEA0q198wsdZM-/view?usp=sharing\n",
        "# 1vRLeIHv1YJjfxzPty_yEA0q198wsdZM\n",
        "!gdown --id 1vRLeIHv1YJjfxzPty_yEA0q198wsdZM-"
      ],
      "execution_count": null,
      "outputs": []
    },
    {
      "cell_type": "code",
      "metadata": {
        "id": "KLfbwzB-_bli"
      },
      "source": [
        "from google.colab import drive\n",
        "drive.mount('/content/drive')\n",
        "# !cp -r /content/drive/MyDrive/files/Datasets .\n",
        "\n",
        "!cp -r /content/drive/MyDrive/Datasets ."
      ],
      "execution_count": null,
      "outputs": []
    },
    {
      "cell_type": "code",
      "metadata": {
        "id": "yS_7iufNDqFn"
      },
      "source": [
        "for i in range(1):\n",
        "  import pandas as pd \n",
        "  import nltk,spacy,re,requests,gensim,datetime,os#,nerer,twitter\n",
        "  from  nltk.tokenize import word_tokenize\n",
        "  from nltk.tokenize import sent_tokenize\n",
        "  from nltk.corpus import stopwords\n",
        "  from nltk.stem import WordNetLemmatizer\n",
        "  from bs4 import BeautifulSoup\n",
        "  from wordcloud import WordCloud,STOPWORDS\n",
        "  import matplotlib.pyplot as plt\n",
        "  from PIL import Image\n",
        "  import numpy as np\n",
        "  import seaborn as sns\n",
        "  from gensim import models,corpora\n",
        "  from time import time\n",
        "  from matplotlib import style\n",
        "  from sklearn import svm\n",
        "  from warnings import simplefilter\n",
        "  from sklearn.exceptions import ConvergenceWarning\n",
        "  from nltk.corpus import sentiwordnet as swn\n",
        "  simplefilter(\"ignore\", category=ConvergenceWarning)\n",
        "  simplefilter(\"ignore\", category=DeprecationWarning)\n",
        "  nltk.download('sentiwordnet')\n",
        "  nltk.download('punkt')\n",
        "  nltk.download('stopwords')\n",
        "  nltk.download('wordnet')\n",
        "  nltk.download('words')\n",
        "  nltk.download('averaged_perceptron_tagger')\n",
        "  nltk.download('maxent_ne_chunker')\n",
        "  lemmatizer = WordNetLemmatizer()\n",
        "  sns.set_style('darkgrid')"
      ],
      "execution_count": null,
      "outputs": []
    },
    {
      "cell_type": "code",
      "metadata": {
        "colab": {
          "base_uri": "https://localhost:8080/"
        },
        "id": "P6-pqXhxWZS2",
        "outputId": "8e115f8f-b6a7-4e4e-9089-4f7878a4e261"
      },
      "source": [
        "novels = {\"Black suits you.TXT\":[\"Suspense\",\"Thriller\",\"Romance\",\"Erotic\"],\n",
        " \"The Girl in Room 105.TXT\": [\"Romance\",\"Fiction\",\"Mystery\"],\n",
        " \"The Fault in our stars-1.TXT\": [\"Realistic Fiction\"],\n",
        " \"The one you cannot have.TXT\": [\"Romance\"],\n",
        " \"Murder on the orient express.TXT\" : [\"Crime\",\"Mystery\"],\n",
        " \"You are the best wife.TXT\" : [\"Fiction\"]\n",
        "\n",
        "}\n",
        "novels = {\"Black suits you.TXT\":[\"Thriller\"],\n",
        " \"The Girl in Room 105.TXT\": [\"Romance\",],\n",
        " \"The Fault in our stars-1.TXT\": [\"Fiction\"],\n",
        " \"The one you cannot have.TXT\": [\"Romance\"],\n",
        " \"Murder on the orient express.TXT\" : [\"Mystery\"],\n",
        " \"You are the best wife.TXT\" : [\"Fiction\"]\n",
        "\n",
        "}\n",
        "\n",
        "os.listdir('Datasets')"
      ],
      "execution_count": null,
      "outputs": [
        {
          "output_type": "execute_result",
          "data": {
            "text/plain": [
              "['Murder on the orient express.TXT',\n",
              " 'The Fault in our stars-1.TXT',\n",
              " 'The Girl in Room 105.TXT',\n",
              " 'You are the best wife.TXT',\n",
              " 'Black suits you.TXT',\n",
              " 'The one you cannot have.TXT']"
            ]
          },
          "metadata": {
            "tags": []
          },
          "execution_count": 10
        }
      ]
    },
    {
      "cell_type": "code",
      "metadata": {
        "colab": {
          "base_uri": "https://localhost:8080/",
          "height": 391
        },
        "id": "8hml-GpYF7zG",
        "outputId": "39e462c7-57d4-4b7d-bb49-056567dc3faf"
      },
      "source": [
        "\n",
        "dfs = []\n",
        "files = os.walk('Datasets')\n",
        "for path,_,name in files:\n",
        "  for fileName in name:\n",
        "    file = open(path+\"/\"+fileName,errors='ignore').read()\n",
        "    file = re.findall('.+',file)\n",
        "    dfs.append(pd.DataFrame({\"Novel_Name\":fileName,\"text\":file,\"genre\":str(novels[fileName]),\"language\":'English'}))\n",
        "df = pd.concat(dfs)\n",
        "df"
      ],
      "execution_count": null,
      "outputs": [
        {
          "output_type": "execute_result",
          "data": {
            "text/html": [
              "<div>\n",
              "<style scoped>\n",
              "    .dataframe tbody tr th:only-of-type {\n",
              "        vertical-align: middle;\n",
              "    }\n",
              "\n",
              "    .dataframe tbody tr th {\n",
              "        vertical-align: top;\n",
              "    }\n",
              "\n",
              "    .dataframe thead th {\n",
              "        text-align: right;\n",
              "    }\n",
              "</style>\n",
              "<table border=\"1\" class=\"dataframe\">\n",
              "  <thead>\n",
              "    <tr style=\"text-align: right;\">\n",
              "      <th></th>\n",
              "      <th>Novel_Name</th>\n",
              "      <th>text</th>\n",
              "      <th>genre</th>\n",
              "      <th>language</th>\n",
              "    </tr>\n",
              "  </thead>\n",
              "  <tbody>\n",
              "    <tr>\n",
              "      <th>0</th>\n",
              "      <td>Murder on the orient express.TXT</td>\n",
              "      <td>AN IMPORTANT PASSENGER ON THE TAURUS EXPRESS</td>\n",
              "      <td>['Mystery']</td>\n",
              "      <td>English</td>\n",
              "    </tr>\n",
              "    <tr>\n",
              "      <th>1</th>\n",
              "      <td>Murder on the orient express.TXT</td>\n",
              "      <td>It was five oclock on a winters morning in Syr...</td>\n",
              "      <td>['Mystery']</td>\n",
              "      <td>English</td>\n",
              "    </tr>\n",
              "    <tr>\n",
              "      <th>2</th>\n",
              "      <td>Murder on the orient express.TXT</td>\n",
              "      <td>By the step leading up into the sleeping-car s...</td>\n",
              "      <td>['Mystery']</td>\n",
              "      <td>English</td>\n",
              "    </tr>\n",
              "    <tr>\n",
              "      <th>3</th>\n",
              "      <td>Murder on the orient express.TXT</td>\n",
              "      <td>It was freezingly cold, and this job of seeing...</td>\n",
              "      <td>['Mystery']</td>\n",
              "      <td>English</td>\n",
              "    </tr>\n",
              "    <tr>\n",
              "      <th>4</th>\n",
              "      <td>Murder on the orient express.TXT</td>\n",
              "      <td>Dubosc had overheard part of a conversation be...</td>\n",
              "      <td>['Mystery']</td>\n",
              "      <td>English</td>\n",
              "    </tr>\n",
              "    <tr>\n",
              "      <th>...</th>\n",
              "      <td>...</td>\n",
              "      <td>...</td>\n",
              "      <td>...</td>\n",
              "      <td>...</td>\n",
              "    </tr>\n",
              "    <tr>\n",
              "      <th>2323</th>\n",
              "      <td>The one you cannot have.TXT</td>\n",
              "      <td>Also by Preeti Shenoy</td>\n",
              "      <td>['Romance']</td>\n",
              "      <td>English</td>\n",
              "    </tr>\n",
              "    <tr>\n",
              "      <th>2324</th>\n",
              "      <td>The one you cannot have.TXT</td>\n",
              "      <td>THE SECRET WISH LIST</td>\n",
              "      <td>['Romance']</td>\n",
              "      <td>English</td>\n",
              "    </tr>\n",
              "    <tr>\n",
              "      <th>2325</th>\n",
              "      <td>The one you cannot have.TXT</td>\n",
              "      <td>Does true love really exist or is it just a cl...</td>\n",
              "      <td>['Romance']</td>\n",
              "      <td>English</td>\n",
              "    </tr>\n",
              "    <tr>\n",
              "      <th>2326</th>\n",
              "      <td>The one you cannot have.TXT</td>\n",
              "      <td>At sixteen, Diksha like any girl her age, find...</td>\n",
              "      <td>['Romance']</td>\n",
              "      <td>English</td>\n",
              "    </tr>\n",
              "    <tr>\n",
              "      <th>2327</th>\n",
              "      <td>The one you cannot have.TXT</td>\n",
              "      <td>What starts as an innocent crush explodes into...</td>\n",
              "      <td>['Romance']</td>\n",
              "      <td>English</td>\n",
              "    </tr>\n",
              "  </tbody>\n",
              "</table>\n",
              "<p>16379 rows × 4 columns</p>\n",
              "</div>"
            ],
            "text/plain": [
              "                            Novel_Name  ... language\n",
              "0     Murder on the orient express.TXT  ...  English\n",
              "1     Murder on the orient express.TXT  ...  English\n",
              "2     Murder on the orient express.TXT  ...  English\n",
              "3     Murder on the orient express.TXT  ...  English\n",
              "4     Murder on the orient express.TXT  ...  English\n",
              "...                                ...  ...      ...\n",
              "2323       The one you cannot have.TXT  ...  English\n",
              "2324       The one you cannot have.TXT  ...  English\n",
              "2325       The one you cannot have.TXT  ...  English\n",
              "2326       The one you cannot have.TXT  ...  English\n",
              "2327       The one you cannot have.TXT  ...  English\n",
              "\n",
              "[16379 rows x 4 columns]"
            ]
          },
          "metadata": {
            "tags": []
          },
          "execution_count": 11
        }
      ]
    },
    {
      "cell_type": "code",
      "metadata": {
        "colab": {
          "base_uri": "https://localhost:8080/",
          "height": 391
        },
        "id": "5AUoHCDitUDO",
        "outputId": "8dbe44f8-3ea4-49e0-e20c-c071b7180cd0"
      },
      "source": [
        "df[df['genre'].str.contains('Romance')]"
      ],
      "execution_count": null,
      "outputs": [
        {
          "output_type": "execute_result",
          "data": {
            "text/html": [
              "<div>\n",
              "<style scoped>\n",
              "    .dataframe tbody tr th:only-of-type {\n",
              "        vertical-align: middle;\n",
              "    }\n",
              "\n",
              "    .dataframe tbody tr th {\n",
              "        vertical-align: top;\n",
              "    }\n",
              "\n",
              "    .dataframe thead th {\n",
              "        text-align: right;\n",
              "    }\n",
              "</style>\n",
              "<table border=\"1\" class=\"dataframe\">\n",
              "  <thead>\n",
              "    <tr style=\"text-align: right;\">\n",
              "      <th></th>\n",
              "      <th>Novel_Name</th>\n",
              "      <th>text</th>\n",
              "      <th>genre</th>\n",
              "      <th>language</th>\n",
              "    </tr>\n",
              "  </thead>\n",
              "  <tbody>\n",
              "    <tr>\n",
              "      <th>0</th>\n",
              "      <td>The Girl in Room 105.TXT</td>\n",
              "      <td>The Girl in Room 105</td>\n",
              "      <td>['Romance']</td>\n",
              "      <td>English</td>\n",
              "    </tr>\n",
              "    <tr>\n",
              "      <th>1</th>\n",
              "      <td>The Girl in Room 105.TXT</td>\n",
              "      <td>Chapter 1</td>\n",
              "      <td>['Romance']</td>\n",
              "      <td>English</td>\n",
              "    </tr>\n",
              "    <tr>\n",
              "      <th>2</th>\n",
              "      <td>The Girl in Room 105.TXT</td>\n",
              "      <td>Six months ago</td>\n",
              "      <td>['Romance']</td>\n",
              "      <td>English</td>\n",
              "    </tr>\n",
              "    <tr>\n",
              "      <th>3</th>\n",
              "      <td>The Girl in Room 105.TXT</td>\n",
              "      <td>Stop, my bhai, stop, Saurabh said, snatching a...</td>\n",
              "      <td>['Romance']</td>\n",
              "      <td>English</td>\n",
              "    </tr>\n",
              "    <tr>\n",
              "      <th>4</th>\n",
              "      <td>The Girl in Room 105.TXT</td>\n",
              "      <td>I am not drunk, I said. We were in a corner of...</td>\n",
              "      <td>['Romance']</td>\n",
              "      <td>English</td>\n",
              "    </tr>\n",
              "    <tr>\n",
              "      <th>...</th>\n",
              "      <td>...</td>\n",
              "      <td>...</td>\n",
              "      <td>...</td>\n",
              "      <td>...</td>\n",
              "    </tr>\n",
              "    <tr>\n",
              "      <th>2323</th>\n",
              "      <td>The one you cannot have.TXT</td>\n",
              "      <td>Also by Preeti Shenoy</td>\n",
              "      <td>['Romance']</td>\n",
              "      <td>English</td>\n",
              "    </tr>\n",
              "    <tr>\n",
              "      <th>2324</th>\n",
              "      <td>The one you cannot have.TXT</td>\n",
              "      <td>THE SECRET WISH LIST</td>\n",
              "      <td>['Romance']</td>\n",
              "      <td>English</td>\n",
              "    </tr>\n",
              "    <tr>\n",
              "      <th>2325</th>\n",
              "      <td>The one you cannot have.TXT</td>\n",
              "      <td>Does true love really exist or is it just a cl...</td>\n",
              "      <td>['Romance']</td>\n",
              "      <td>English</td>\n",
              "    </tr>\n",
              "    <tr>\n",
              "      <th>2326</th>\n",
              "      <td>The one you cannot have.TXT</td>\n",
              "      <td>At sixteen, Diksha like any girl her age, find...</td>\n",
              "      <td>['Romance']</td>\n",
              "      <td>English</td>\n",
              "    </tr>\n",
              "    <tr>\n",
              "      <th>2327</th>\n",
              "      <td>The one you cannot have.TXT</td>\n",
              "      <td>What starts as an innocent crush explodes into...</td>\n",
              "      <td>['Romance']</td>\n",
              "      <td>English</td>\n",
              "    </tr>\n",
              "  </tbody>\n",
              "</table>\n",
              "<p>6810 rows × 4 columns</p>\n",
              "</div>"
            ],
            "text/plain": [
              "                       Novel_Name  ... language\n",
              "0        The Girl in Room 105.TXT  ...  English\n",
              "1        The Girl in Room 105.TXT  ...  English\n",
              "2        The Girl in Room 105.TXT  ...  English\n",
              "3        The Girl in Room 105.TXT  ...  English\n",
              "4        The Girl in Room 105.TXT  ...  English\n",
              "...                           ...  ...      ...\n",
              "2323  The one you cannot have.TXT  ...  English\n",
              "2324  The one you cannot have.TXT  ...  English\n",
              "2325  The one you cannot have.TXT  ...  English\n",
              "2326  The one you cannot have.TXT  ...  English\n",
              "2327  The one you cannot have.TXT  ...  English\n",
              "\n",
              "[6810 rows x 4 columns]"
            ]
          },
          "metadata": {
            "tags": []
          },
          "execution_count": 12
        }
      ]
    },
    {
      "cell_type": "code",
      "metadata": {
        "id": "ceyR4-Z--LJV"
      },
      "source": [
        "#function for treatment of verbs form and apostrophe in text\n",
        "def decontracted(phrase):\n",
        "    phrase = re.sub(r\"won\\'t\", \"will not\", phrase)\n",
        "    phrase = re.sub(r\"can\\'t\", \"can not\", phrase)\n",
        "    phrase = re.sub(r\"n\\'t\", \" not\", phrase)\n",
        "    phrase = re.sub(r\"\\'re\", \" are\", phrase)\n",
        "    phrase = re.sub(r\"\\'s\", \" is\", phrase)\n",
        "    phrase = re.sub(r\"\\'d\", \" would\", phrase)\n",
        "    phrase = re.sub(r\"\\'ll\", \" will\", phrase)\n",
        "    phrase = re.sub(r\"\\'t\", \" not\", phrase)\n",
        "    phrase = re.sub(r\"\\'ve\", \" have\", phrase)\n",
        "    phrase = re.sub(r\"\\'m\", \" am\", phrase)\n",
        "    return phrase\n",
        "\n",
        "def cleanData(text):\n",
        "  text = text.lower()\n",
        "  text = re.compile(r'https?://\\S+|www\\.\\S+').sub(r'',text)\n",
        "  text = re.compile(r'http?://\\S+|www\\.\\S+').sub(r'',text)\n",
        "  text = BeautifulSoup(text,'html.parser').text\n",
        "  hashtags = [ [ tag[1: ] for tag in i.split() if tag.startswith('#') ] for i in [text] ]\n",
        "  tags = [ [ ent[1: ] for ent in i.split() if ent.startswith(\"@\") ] for i in [text] ]\n",
        "  text = decontracted(text)\n",
        "  text = [ \" \".join([ sent for sent in text.split(\" \") if sent.startswith(\"@\") == False  ]) for text in [text]][0]\n",
        "  text = re.sub('_',' ',emoji.demojize(text))\n",
        "  text = text.replace('[^\\w\\s]','')\n",
        "  text =  [\" \".join(([word for word in word_tokenize(i) if not word in list((stopwords.words('english')))]))  for i in [text] ][0]\n",
        "  text = lemmatizer.lemmatize(text)\n",
        "  return text"
      ],
      "execution_count": null,
      "outputs": []
    },
    {
      "cell_type": "code",
      "metadata": {
        "colab": {
          "base_uri": "https://localhost:8080/",
          "height": 407
        },
        "id": "a0Al_EkF-gLQ",
        "outputId": "7cbcda78-bb96-4e9a-c242-07d3fdb4f15d"
      },
      "source": [
        "df_data = df.copy()\n",
        "df_data['genre'] = df_data['genre'].apply(lambda x: [i for i in eval(x)])\n",
        "#Column ['Text'] pre-processing by converting it to lower case\n",
        "df_data.text = df_data.text.apply(lambda text:text.lower() if type(text) == str else text)\n",
        "#HREF Links Removal\n",
        "df_data.text = df_data.text.apply(lambda text: re.compile(r'https?://\\S+|www\\.\\S+').sub(r'',text))\n",
        "df_data.text = df_data.text.apply(lambda text: re.compile(r'http?://\\S+|www\\.\\S+').sub(r'',text))\n",
        "#HTML Text Removal\n",
        "df_data.text = df_data.text.apply(lambda text: BeautifulSoup(text,'html.parser').text)\n",
        "#removing numbers\n",
        "df_data.text = df_data.text.apply(lambda text: re.sub('\\d+','',text))\n",
        "#Decontraction\n",
        "df_data.text = df_data.text.apply(lambda x :decontracted(x))\n",
        "#Punctuations Removal\n",
        "df_data.text = df_data.text.str.replace('[^\\w\\s]','')\n",
        "#StopWords Removal\n",
        "df_data.text = [ \" \".join(([word for word in word_tokenize(i) if not word in list((stopwords.words('english')))]))  for i in df_data.text ]\n",
        "#Lemmatization - Aiming to remove inflectional endings and return the base meaning or dictionary meaning of a word also known as lemma\n",
        "df_data.text = df_data.text.apply(lambda text: lemmatizer.lemmatize(text))\n",
        "#Tokenization - We'll be using white space tokenizer as other tokenizers separate on condition which doesn't help us portray meaninng of words\n",
        "df_data['tokenised_text'] = [[word for word in word_tokenize(i)] for i in df_data.text]\n",
        "#Recheck for missing values\n",
        "print(\"No Missing Data\" if (df_data.text.isna().any()==False ) else False)\n",
        "\n",
        "df_data"
      ],
      "execution_count": null,
      "outputs": [
        {
          "output_type": "stream",
          "text": [
            "No Missing Data\n"
          ],
          "name": "stdout"
        },
        {
          "output_type": "execute_result",
          "data": {
            "text/html": [
              "<div>\n",
              "<style scoped>\n",
              "    .dataframe tbody tr th:only-of-type {\n",
              "        vertical-align: middle;\n",
              "    }\n",
              "\n",
              "    .dataframe tbody tr th {\n",
              "        vertical-align: top;\n",
              "    }\n",
              "\n",
              "    .dataframe thead th {\n",
              "        text-align: right;\n",
              "    }\n",
              "</style>\n",
              "<table border=\"1\" class=\"dataframe\">\n",
              "  <thead>\n",
              "    <tr style=\"text-align: right;\">\n",
              "      <th></th>\n",
              "      <th>Novel_Name</th>\n",
              "      <th>text</th>\n",
              "      <th>genre</th>\n",
              "      <th>language</th>\n",
              "      <th>tokenised_text</th>\n",
              "    </tr>\n",
              "  </thead>\n",
              "  <tbody>\n",
              "    <tr>\n",
              "      <th>0</th>\n",
              "      <td>Murder on the orient express.TXT</td>\n",
              "      <td>important passenger taurus express</td>\n",
              "      <td>[Mystery]</td>\n",
              "      <td>English</td>\n",
              "      <td>[important, passenger, taurus, express]</td>\n",
              "    </tr>\n",
              "    <tr>\n",
              "      <th>1</th>\n",
              "      <td>Murder on the orient express.TXT</td>\n",
              "      <td>five oclock winters morning syria alongside pl...</td>\n",
              "      <td>[Mystery]</td>\n",
              "      <td>English</td>\n",
              "      <td>[five, oclock, winters, morning, syria, alongs...</td>\n",
              "    </tr>\n",
              "    <tr>\n",
              "      <th>2</th>\n",
              "      <td>Murder on the orient express.TXT</td>\n",
              "      <td>step leading sleepingcar stood young french li...</td>\n",
              "      <td>[Mystery]</td>\n",
              "      <td>English</td>\n",
              "      <td>[step, leading, sleepingcar, stood, young, fre...</td>\n",
              "    </tr>\n",
              "    <tr>\n",
              "      <th>3</th>\n",
              "      <td>Murder on the orient express.TXT</td>\n",
              "      <td>freezingly cold job seeing distinguished stran...</td>\n",
              "      <td>[Mystery]</td>\n",
              "      <td>English</td>\n",
              "      <td>[freezingly, cold, job, seeing, distinguished,...</td>\n",
              "    </tr>\n",
              "    <tr>\n",
              "      <th>4</th>\n",
              "      <td>Murder on the orient express.TXT</td>\n",
              "      <td>dubosc overheard part conversation stranger sa...</td>\n",
              "      <td>[Mystery]</td>\n",
              "      <td>English</td>\n",
              "      <td>[dubosc, overheard, part, conversation, strang...</td>\n",
              "    </tr>\n",
              "    <tr>\n",
              "      <th>...</th>\n",
              "      <td>...</td>\n",
              "      <td>...</td>\n",
              "      <td>...</td>\n",
              "      <td>...</td>\n",
              "      <td>...</td>\n",
              "    </tr>\n",
              "    <tr>\n",
              "      <th>2323</th>\n",
              "      <td>The one you cannot have.TXT</td>\n",
              "      <td>also preeti shenoy</td>\n",
              "      <td>[Romance]</td>\n",
              "      <td>English</td>\n",
              "      <td>[also, preeti, shenoy]</td>\n",
              "    </tr>\n",
              "    <tr>\n",
              "      <th>2324</th>\n",
              "      <td>The one you cannot have.TXT</td>\n",
              "      <td>secret wish list</td>\n",
              "      <td>[Romance]</td>\n",
              "      <td>English</td>\n",
              "      <td>[secret, wish, list]</td>\n",
              "    </tr>\n",
              "    <tr>\n",
              "      <th>2325</th>\n",
              "      <td>The one you cannot have.TXT</td>\n",
              "      <td>true love really exist cliche single kiss real...</td>\n",
              "      <td>[Romance]</td>\n",
              "      <td>English</td>\n",
              "      <td>[true, love, really, exist, cliche, single, ki...</td>\n",
              "    </tr>\n",
              "    <tr>\n",
              "      <th>2326</th>\n",
              "      <td>The one you cannot have.TXT</td>\n",
              "      <td>sixteen diksha like girl age finds life revolv...</td>\n",
              "      <td>[Romance]</td>\n",
              "      <td>English</td>\n",
              "      <td>[sixteen, diksha, like, girl, age, finds, life...</td>\n",
              "    </tr>\n",
              "    <tr>\n",
              "      <th>2327</th>\n",
              "      <td>The one you cannot have.TXT</td>\n",
              "      <td>starts innocent crush explodes something far b...</td>\n",
              "      <td>[Romance]</td>\n",
              "      <td>English</td>\n",
              "      <td>[starts, innocent, crush, explodes, something,...</td>\n",
              "    </tr>\n",
              "  </tbody>\n",
              "</table>\n",
              "<p>16379 rows × 5 columns</p>\n",
              "</div>"
            ],
            "text/plain": [
              "                            Novel_Name  ...                                     tokenised_text\n",
              "0     Murder on the orient express.TXT  ...            [important, passenger, taurus, express]\n",
              "1     Murder on the orient express.TXT  ...  [five, oclock, winters, morning, syria, alongs...\n",
              "2     Murder on the orient express.TXT  ...  [step, leading, sleepingcar, stood, young, fre...\n",
              "3     Murder on the orient express.TXT  ...  [freezingly, cold, job, seeing, distinguished,...\n",
              "4     Murder on the orient express.TXT  ...  [dubosc, overheard, part, conversation, strang...\n",
              "...                                ...  ...                                                ...\n",
              "2323       The one you cannot have.TXT  ...                             [also, preeti, shenoy]\n",
              "2324       The one you cannot have.TXT  ...                               [secret, wish, list]\n",
              "2325       The one you cannot have.TXT  ...  [true, love, really, exist, cliche, single, ki...\n",
              "2326       The one you cannot have.TXT  ...  [sixteen, diksha, like, girl, age, finds, life...\n",
              "2327       The one you cannot have.TXT  ...  [starts, innocent, crush, explodes, something,...\n",
              "\n",
              "[16379 rows x 5 columns]"
            ]
          },
          "metadata": {
            "tags": []
          },
          "execution_count": 14
        }
      ]
    },
    {
      "cell_type": "code",
      "metadata": {
        "id": "A2VS4wZZS1Yz"
      },
      "source": [
        "from sklearn.feature_extraction.text import TfidfVectorizer\n",
        "\n",
        "df_target = pd.DataFrame()\n",
        "df_target['genre'] = df_data['genre']\n",
        "df_target.genre = df_target.genre.apply(lambda x: x[0])\n",
        "df_target = df_target.genre.replace({'Fiction':1,'Romance':2,\"Thriller\":3, \"Mystery\":4})\n",
        "df_target.value_counts()\n",
        "tfidfconverter = TfidfVectorizer(max_features=20000, min_df=5, max_df=0.7, stop_words=stopwords.words('english'))  \n",
        "corpus  = tfidfconverter.fit_transform(df_data['text']).toarray()"
      ],
      "execution_count": null,
      "outputs": []
    },
    {
      "cell_type": "code",
      "metadata": {
        "id": "Sq2ydccQYoQ3"
      },
      "source": [
        "from sklearn.model_selection import train_test_split\n",
        "from sklearn.feature_extraction.text import CountVectorizer\n",
        "from sklearn.feature_extraction.text import TfidfTransformer\n",
        "from sklearn.naive_bayes import MultinomialNB\n",
        "\n",
        "\n",
        "# count_vect = CountVectorizer()\n",
        "# count_vect.fit_transform(X_train)\n",
        "# k = tfidf_vectorizer.transform([\"yes software engineer loves fact detectives\"])\n",
        "# k.shape\n",
        "# CV_lr.predict(k)"
      ],
      "execution_count": null,
      "outputs": []
    },
    {
      "cell_type": "code",
      "metadata": {
        "id": "wkTWAodnkqf4"
      },
      "source": [
        "# k.shape\n",
        "# X_train[1]\n",
        "# tfidfconverter = TfidfVectorizer(max_features=200000, min_df=5, max_df=0.7, stop_words=stopwords.words('english'))  \n",
        "# corpus  = tfidfconverter.fit_transform(df_data['text']).toarray()\n",
        "tfidf_vectorizer.max_features = 3000\n",
        "# tfidf_vectorizer.transform()"
      ],
      "execution_count": null,
      "outputs": []
    },
    {
      "cell_type": "code",
      "metadata": {
        "id": "6Cwueit6UhAi"
      },
      "source": [
        "from sklearn.ensemble import RandomForestClassifier\n",
        "from sklearn.metrics import *\n",
        "X_train, X_test, Y_train, Y_test = train_test_split(corpus, df_target, test_size=0.20, stratify=df_target,random_state=30)\n",
        "# RFC =RandomForestClassifier()\n",
        "# RFC.fit(X_train,Y_train)\n",
        "# y_pred =RFC.predict(X_test)\n",
        "# print(\"Confusion Matrix\")\n",
        "# print(confusion_matrix(Y_test,y_pred))\n",
        "# print(\"\\nAccuracy of RandomForestClassifier Model: {}\\n\".format(accuracy_score(Y_test, y_pred)))\n",
        "# print(classification_report(Y_test,y_pred))"
      ],
      "execution_count": null,
      "outputs": []
    },
    {
      "cell_type": "code",
      "metadata": {
        "colab": {
          "base_uri": "https://localhost:8080/"
        },
        "id": "Ik_j5sCxXcg8",
        "outputId": "f0365eb6-6d6c-480b-833f-14a1e75cac8c"
      },
      "source": [
        "#Using Gridsearch optimal parameter tuning for Logistic Regression Classifier Model\n",
        "from sklearn.model_selection import GridSearchCV\n",
        "param_grid = {\n",
        "   'random_state': [ 10, 25,30, 50 ],\n",
        "   'class_weight' : ['balanced'],\n",
        "  'multi_class':[\"auto\"],\n",
        "  \"solver\":['newton-cg', 'lbfgs', 'liblinear', 'sag', 'saga']}\n",
        "\n",
        "CV_lr = GridSearchCV(estimator = lr, param_grid=param_grid, cv= 3)\n",
        "CV_lr.fit(X_train, Y_train)\n",
        "print(CV_lr.best_params_)\n",
        "print(CV_lr.best_estimator_)\n",
        "\n",
        "y_pred_lr = CV_lr.predict(X_test)\n",
        "\n",
        "print(\"Confusion Matrix \\n {}\".format(confusion_matrix(Y_test,y_pred_lr)))\n",
        "print(\"Accuracy of : {}\".format(accuracy_score(Y_test, y_pred_lr)))\n",
        "print(classification_report(Y_test,y_pred_lr)) "
      ],
      "execution_count": null,
      "outputs": [
        {
          "output_type": "stream",
          "text": [
            "{'class_weight': 'balanced', 'multi_class': 'auto', 'random_state': 10, 'solver': 'liblinear'}\n",
            "LogisticRegression(C=1.0, class_weight='balanced', dual=False,\n",
            "                   fit_intercept=True, intercept_scaling=1, l1_ratio=None,\n",
            "                   max_iter=100, multi_class='auto', n_jobs=None, penalty='l2',\n",
            "                   random_state=10, solver='liblinear', tol=0.0001, verbose=0,\n",
            "                   warm_start=False)\n",
            "Confusion Matrix \n",
            " [[ 718  127   24   22]\n",
            " [ 101 1207   26   28]\n",
            " [  44   92  316   11]\n",
            " [  23   76    4  450]]\n",
            "Accuracy of : 0.8231875191189967\n",
            "              precision    recall  f1-score   support\n",
            "\n",
            "           1       0.81      0.81      0.81       891\n",
            "           2       0.80      0.89      0.84      1362\n",
            "           3       0.85      0.68      0.76       463\n",
            "           4       0.88      0.81      0.85       553\n",
            "\n",
            "    accuracy                           0.82      3269\n",
            "   macro avg       0.84      0.80      0.81      3269\n",
            "weighted avg       0.83      0.82      0.82      3269\n",
            "\n"
          ],
          "name": "stdout"
        }
      ]
    },
    {
      "cell_type": "code",
      "metadata": {
        "id": "CqyN9Cb6h2P4"
      },
      "source": [
        ""
      ],
      "execution_count": null,
      "outputs": []
    },
    {
      "cell_type": "code",
      "metadata": {
        "colab": {
          "base_uri": "https://localhost:8080/"
        },
        "id": "mIKibpo8ju4B",
        "outputId": "14ca3390-d9a6-4e02-bcb6-510e5637635c"
      },
      "source": [
        "def infer_tags(texts):\n",
        "  texts = [decontracted(text) for text in texts]\n",
        "  texts = [text.replace('[^\\w\\s]','') for text in texts]\n",
        "  texts = [ \" \".join(([word for word in word_tokenize(i) if not word in list((stopwords.words('english')))]))  for i in texts ]\n",
        "  texts = [lemmatizer.lemmatize(text) for text in texts][0]\n",
        "  print(texts)\n",
        "  q_vec = tfidf_vectorizer.transform([texts])\n",
        "  # q_pred = clf.predict(q_vec)\n",
        "  # return multilabel_binarizer.inverse_transform(q_pred)\n",
        "  return q_vec\n",
        "infer_tags([\"He killed me in a jiffy\"])\n",
        "# newCorp = tfidfconverter.fit_transform([\"He killed me in a jiffy\"])\n",
        "# tfidfconverter.fit_transform()"
      ],
      "execution_count": null,
      "outputs": [
        {
          "output_type": "stream",
          "text": [
            "He killed jiffy\n"
          ],
          "name": "stdout"
        },
        {
          "output_type": "execute_result",
          "data": {
            "text/plain": [
              "<1x16163 sparse matrix of type '<class 'numpy.float64'>'\n",
              "\twith 2 stored elements in Compressed Sparse Row format>"
            ]
          },
          "metadata": {
            "tags": []
          },
          "execution_count": 80
        }
      ]
    },
    {
      "cell_type": "code",
      "metadata": {
        "id": "8Fob4JNih_Wc"
      },
      "source": [
        "import numpy as np\n",
        "import json\n",
        "import nltk\n",
        "import csv\n",
        "import matplotlib.pyplot as plt \n",
        "import seaborn as sns\n",
        "from tqdm import tqdm\n",
        "from sklearn.feature_extraction.text import TfidfVectorizer\n",
        "from sklearn.model_selection import train_test_split\n",
        "\n",
        "from sklearn.preprocessing import MultiLabelBinarizer\n",
        "multilabel_binarizer = MultiLabelBinarizer()\n",
        "multilabel_binarizer.fit(df_data['genre'])\n",
        "y = multilabel_binarizer.transform(df_data['genre'])\n",
        "\n",
        "\n",
        "tfidf_vectorizer = TfidfVectorizer(max_df=0.8, max_features=10000000)\n",
        "xtrain, xval, ytrain, yval = train_test_split(df_data['text'], y, test_size=0.2, random_state=9)\n",
        "xtrain_tfidf = tfidf_vectorizer.fit_transform(xtrain)\n",
        "xval_tfidf = tfidf_vectorizer.transform(xval)\n",
        "from sklearn.linear_model import LogisticRegression\n",
        "from sklearn.multiclass import OneVsRestClassifier\n",
        "from sklearn.metrics import f1_score\n",
        "lr = LogisticRegression()\n",
        "clf = OneVsRestClassifier(lr)\n",
        "clf.fit(xtrain_tfidf, ytrain)\n",
        "y_pred = clf.predict(xval_tfidf)\n",
        "f1_score(yval, y_pred, average=\"micro\")\n",
        "y_pred_prob = clf.predict_proba(xval_tfidf)\n",
        "t = 0.3\n",
        "y_pred_new = (y_pred_prob >= t).astype(int)"
      ],
      "execution_count": null,
      "outputs": []
    },
    {
      "cell_type": "code",
      "metadata": {
        "colab": {
          "base_uri": "https://localhost:8080/"
        },
        "id": "afEtc-u2iwg-",
        "outputId": "d6fbaa1b-d062-4b20-e6a5-ce90893e136f"
      },
      "source": [
        "multilabel_binarizer.inverse_transform(y_pred)[0]"
      ],
      "execution_count": null,
      "outputs": [
        {
          "output_type": "execute_result",
          "data": {
            "text/plain": [
              "('Romance',)"
            ]
          },
          "metadata": {
            "tags": []
          },
          "execution_count": 50
        }
      ]
    },
    {
      "cell_type": "code",
      "metadata": {
        "id": "SiqDhoU_kJLg"
      },
      "source": [
        "for i in range(len(y_pred)):\n",
        "  print(multilabel_binarizer.inverse_transform(y_pred)[i])"
      ],
      "execution_count": null,
      "outputs": []
    },
    {
      "cell_type": "code",
      "metadata": {
        "colab": {
          "base_uri": "https://localhost:8080/",
          "height": 326
        },
        "id": "D4nKrDUISAsd",
        "outputId": "69a68f35-e3ee-4820-c8c7-371e2445277e"
      },
      "source": [
        "df_data['genre'].value_counts().plot.bar()"
      ],
      "execution_count": null,
      "outputs": [
        {
          "output_type": "execute_result",
          "data": {
            "text/plain": [
              "<matplotlib.axes._subplots.AxesSubplot at 0x7f8b039f4b70>"
            ]
          },
          "metadata": {
            "tags": []
          },
          "execution_count": 47
        },
        {
          "output_type": "display_data",
          "data": {
            "image/png": "[encoded data removed]",
            "text/plain": [
              "<Figure size 432x288 with 1 Axes>"
            ]
          },
          "metadata": {
            "tags": []
          }
        }
      ]
    },
    {
      "cell_type": "markdown",
      "metadata": {
        "id": "M-QCtVfa5R2O"
      },
      "source": [
        "# DL"
      ]
    },
    {
      "cell_type": "code",
      "metadata": {
        "id": "0ToKr5s95ShI"
      },
      "source": [
        "X_train, X_test, Y_train, Y_test = train_test_split(corpus, df_target, test_size=0.20, stratify=df_target,random_state=30)\n"
      ],
      "execution_count": null,
      "outputs": []
    },
    {
      "cell_type": "code",
      "metadata": {
        "id": "OF1IZeaS63jf"
      },
      "source": [
        "x_train = tf.keras.utils.normalize(X_train, axis=1) \n",
        "x_test = tf.keras.utils.normalize(X_test, axis=1)  \n",
        "\n"
      ],
      "execution_count": null,
      "outputs": []
    },
    {
      "cell_type": "code",
      "metadata": {
        "id": "9qSbCSOb7aqy"
      },
      "source": [
        "from keras.utils import to_categorical\n",
        "train_label=to_categorical(X_train)\n",
        "test_labels=to_categorical(Y_train)"
      ],
      "execution_count": null,
      "outputs": []
    },
    {
      "cell_type": "code",
      "metadata": {
        "id": "5k7cdSzc8vlY"
      },
      "source": [
        "input_dim = X_train.shape[1]\n",
        "input_dim2 = Y_train.shape[0]"
      ],
      "execution_count": null,
      "outputs": []
    },
    {
      "cell_type": "code",
      "metadata": {
        "id": "mAeD3LRV5VpG"
      },
      "source": [
        "import tensorflow as tf\n",
        "from tensorflow import keras"
      ],
      "execution_count": null,
      "outputs": []
    },
    {
      "cell_type": "code",
      "metadata": {
        "id": "IBzfBZKk6Rep"
      },
      "source": [
        "model = keras.Sequential([\n",
        "    keras.layers.Dense(60, input_dim=60, activation='relu'),\n",
        "    keras.layers.Dense(30, activation='relu'),\n",
        "    keras.layers.Dense(15, activation='relu'),\n",
        "    keras.layers.Dense(1, activation='sigmoid')\n",
        "])\n",
        "\n",
        "model.compile(loss='binary_crossentropy', optimizer='adam', metrics=['accuracy'])\n",
        "model.fit(input_dim, input_dim2, epochs=100, batch_size=1)"
      ],
      "execution_count": null,
      "outputs": []
    },
    {
      "cell_type": "code",
      "metadata": {
        "colab": {
          "base_uri": "https://localhost:8080/"
        },
        "id": "dERQvMiE9lhx",
        "outputId": "39050dd2-6d7d-444a-9597-31747f245752"
      },
      "source": [
        "from keras.models import Sequential\n",
        "from keras import layers\n",
        "model = Sequential()\n",
        "model.add(layers.Dense(10, input_dim=input_dim, activation='relu'))\n",
        "model.add(layers.Dense(1, activation='sigmoid'))\n",
        "\n",
        "\n",
        "model.compile(loss='binary_crossentropy', optimizer='adam',metrics=['accuracy'])\n",
        "model.summary()"
      ],
      "execution_count": null,
      "outputs": [
        {
          "output_type": "stream",
          "text": [
            "Model: \"sequential_9\"\n",
            "_________________________________________________________________\n",
            "Layer (type)                 Output Shape              Param #   \n",
            "=================================================================\n",
            "dense_34 (Dense)             (None, 10)                48480     \n",
            "_________________________________________________________________\n",
            "dense_35 (Dense)             (None, 1)                 11        \n",
            "=================================================================\n",
            "Total params: 48,491\n",
            "Trainable params: 48,491\n",
            "Non-trainable params: 0\n",
            "_________________________________________________________________\n"
          ],
          "name": "stdout"
        }
      ]
    },
    {
      "cell_type": "code",
      "metadata": {
        "colab": {
          "base_uri": "https://localhost:8080/"
        },
        "id": "ybp7mxGG-H5K",
        "outputId": "3668c4fc-7212-4161-af37-90c5679fe5d1"
      },
      "source": [
        "history = model.fit(X_train, Y_train, epochs=10,validation_data=(X_test, Y_test),batch_size=50)"
      ],
      "execution_count": null,
      "outputs": [
        {
          "output_type": "stream",
          "text": [
            "Epoch 1/10\n",
            "263/263 [==============================] - 1s 3ms/step - loss: -46273.5742 - accuracy: 0.2743 - val_loss: -46305.8008 - val_accuracy: 0.2744\n",
            "Epoch 2/10\n",
            "263/263 [==============================] - 1s 3ms/step - loss: -46581.6055 - accuracy: 0.2743 - val_loss: -46616.5078 - val_accuracy: 0.2744\n",
            "Epoch 3/10\n",
            "263/263 [==============================] - 1s 3ms/step - loss: -46897.3555 - accuracy: 0.2743 - val_loss: -46935.2812 - val_accuracy: 0.2744\n",
            "Epoch 4/10\n",
            "263/263 [==============================] - 1s 3ms/step - loss: -47220.4180 - accuracy: 0.2743 - val_loss: -47260.8555 - val_accuracy: 0.2744\n",
            "Epoch 5/10\n",
            "263/263 [==============================] - 1s 3ms/step - loss: -47550.0938 - accuracy: 0.2743 - val_loss: -47593.0000 - val_accuracy: 0.2744\n",
            "Epoch 6/10\n",
            "263/263 [==============================] - 1s 3ms/step - loss: -47886.2812 - accuracy: 0.2743 - val_loss: -47930.1836 - val_accuracy: 0.2744\n",
            "Epoch 7/10\n",
            "263/263 [==============================] - 1s 3ms/step - loss: -48227.0742 - accuracy: 0.2743 - val_loss: -48272.9414 - val_accuracy: 0.2744\n",
            "Epoch 8/10\n",
            "263/263 [==============================] - 1s 3ms/step - loss: -48573.0703 - accuracy: 0.2743 - val_loss: -48620.3906 - val_accuracy: 0.2744\n",
            "Epoch 9/10\n",
            "263/263 [==============================] - 1s 3ms/step - loss: -48924.3672 - accuracy: 0.2743 - val_loss: -48972.8633 - val_accuracy: 0.2744\n",
            "Epoch 10/10\n",
            "263/263 [==============================] - 1s 3ms/step - loss: -49278.8828 - accuracy: 0.2743 - val_loss: -49327.9258 - val_accuracy: 0.2744\n"
          ],
          "name": "stdout"
        }
      ]
    },
    {
      "cell_type": "code",
      "metadata": {
        "colab": {
          "base_uri": "https://localhost:8080/",
          "height": 337
        },
        "id": "nkjXMo36_Hyu",
        "outputId": "e2061fc4-ef20-496a-dbbb-f374f166c8ed"
      },
      "source": [
        "import matplotlib.pyplot as plt\n",
        "\n",
        "def plot_history(history):\n",
        "    accuracy = history.history['accuracy']\n",
        "    val_accuracy = history.history['val_accuracy']\n",
        "    loss = history.history['loss']\n",
        "    val_loss = history.history['val_loss']\n",
        "    x = range(1, len(accuracy) + 1)\n",
        "\n",
        "    plt.figure(figsize=(12, 5))\n",
        "    plt.subplot(1, 2, 1)\n",
        "    plt.plot(x, accuracy, 'b', label='Training accuracy')\n",
        "    plt.plot(x, val_accuracy, 'r', label='Validation accuracy')\n",
        "    plt.title('Training and validation accuracyuracy')\n",
        "    plt.legend()\n",
        "    plt.subplot(1, 2, 2)\n",
        "    plt.plot(x, loss, 'b', label='Training loss')\n",
        "    plt.plot(x, val_loss, 'r', label='Validation loss')\n",
        "    plt.title('Training and validation loss')\n",
        "    plt.legend()\n",
        "\n",
        "plot_history(history)"
      ],
      "execution_count": null,
      "outputs": [
        {
          "output_type": "display_data",
          "data": {
            "image/png": "[encoded data removed]",
            "text/plain": [
              "<Figure size 864x360 with 2 Axes>"
            ]
          },
          "metadata": {
            "tags": []
          }
        }
      ]
    },
    {
      "cell_type": "markdown",
      "metadata": {
        "id": "PXzFr33o0znC"
      },
      "source": [
        "#Gutenberg"
      ]
    },
    {
      "cell_type": "code",
      "metadata": {
        "id": "8mmTzXrYxgZH"
      },
      "source": [
        "!pip install gutenberg-cleaner\n",
        "import nltk\n",
        "import gutenberg_cleaner\n",
        "nltk.download('punkt')\n",
        "import pandas as pd\n",
        "import re\n",
        "from concurrent.futures import ThreadPoolExecutor\n",
        "from nltk.tokenize import sent_tokenize\n",
        "import shutil\n",
        "import urllib.request as request\n",
        "from contextlib import closing\n",
        "import requests\n",
        "from bs4 import BeautifulSoup\n",
        "import os"
      ],
      "execution_count": null,
      "outputs": []
    },
    {
      "cell_type": "code",
      "metadata": {
        "id": "Yx4o_feN7xX-"
      },
      "source": [
        "# Miscellaneous\n",
        "# !pip install https://github.com/aparrish/gutenberg-dammit/archive/master.zip\n",
        "# !wget -w 2 -m http://corpus-db.org/api/id/8.0/fulltext\n",
        "# !gdown --id 0B2Mzhc7popBga2RkcWZNcjlRTGM\n",
        "# !unzip /content/Gutenberg.zip"
      ],
      "execution_count": null,
      "outputs": []
    },
    {
      "cell_type": "code",
      "metadata": {
        "id": "a3s5N8uAI6O4"
      },
      "source": [
        "!cp /content/drive/MyDrive/UGRA/DataSetFresh.tar.gz .\n",
        "!mkdir DataSetFresh\n",
        "!tar -xvzf DataSetFresh.tar.gz -C /content/DataSetFresh/\n",
        "!ls DataSetFresh/content/DataSetFresh/ | grep \"\" -c\n",
        "!unzip -o /content/DataSetFresh/content/DataSetFresh1/\\*.zip -d \"/content/NewTemp/\"\n",
        "!rm -r -f DataSetFresh/\n",
        "!wget https://www.gutenberg.org/cache/epub/feeds/rdf-files.tar.zip\n",
        "!tar -xvzf rdf-files.tar.zip"
      ],
      "execution_count": null,
      "outputs": []
    },
    {
      "cell_type": "code",
      "metadata": {
        "id": "BgBia7SHEGSO"
      },
      "source": [
        "links = []\n",
        "def linkAppender(url):\n",
        "  print(len(links))\n",
        "  out = requests.get(url)\n",
        "  soup = BeautifulSoup(out.text,'html.parser')\n",
        "  for i in soup.find_all('a'):\n",
        "    links.append(i.get('href'))\n",
        "    url = \"http://www.gutenberg.org/robot/\"+links[-1]\n",
        "    while \"harvest\" in url:\n",
        "      links.pop(-1)\n",
        "      return linkAppender(url)\n",
        "  return\n",
        "linkAppender('http://www.gutenberg.org/robot/harvest?filetypes[]=txt&langs[]=en')"
      ],
      "execution_count": null,
      "outputs": []
    },
    {
      "cell_type": "code",
      "metadata": {
        "id": "tApdrFh7CM-A"
      },
      "source": [
        "pattern = re.compile('((\\[.+|.+\\])|\\n\\n)')\n",
        "def cleanHeaderFooter(string):\n",
        "  filteredData = gutenberg_cleaner.super_cleaner(string)\n",
        "  cleanData = pattern.sub(\"\",filteredData)\n",
        "  return cleanData"
      ],
      "execution_count": null,
      "outputs": []
    },
    {
      "cell_type": "code",
      "metadata": {
        "colab": {
          "base_uri": "https://localhost:8080/"
        },
        "id": "T8jOWkkTXkLJ",
        "outputId": "355f480c-c822-4a06-d071-5442ba23c6d7"
      },
      "source": [
        "novelData = [i.replace(\".txt\",\"\") for i in os.listdir('NewTemp/') if i.endswith(\".txt\")]\n",
        "len(novelData)\n",
        "novelData[:5]"
      ],
      "execution_count": null,
      "outputs": [
        {
          "output_type": "execute_result",
          "data": {
            "text/plain": [
              "['36880', '18388', '2826', '36313', '5490']"
            ]
          },
          "metadata": {
            "tags": []
          },
          "execution_count": 26
        }
      ]
    },
    {
      "cell_type": "code",
      "metadata": {
        "id": "1Yjre7mRJyNz"
      },
      "source": [
        "def fileDownloadAndSave(url):\n",
        "  try:\n",
        "    url = url.replace(\"http\",\"ftp\").replace(\"https\",\"ftp\")\n",
        "    fileName = re.findall('(?=\\w+\\.\\w{3,4}$).+',url)[0]\n",
        "    with closing(request.urlopen(url)) as r:\n",
        "      with open(\"DataSetFresh1/\"+fileName, 'wb') as f:\n",
        "        shutil.copyfileobj(r, f)\n",
        "  except Exception as e:\n",
        "    print(e)\n",
        "  return\n",
        "\n",
        "with ThreadPoolExecutor(20) as executor:\n",
        "  for _ in executor.map(fileDownloadAndSave,links):\n",
        "    pass"
      ],
      "execution_count": null,
      "outputs": []
    },
    {
      "cell_type": "code",
      "metadata": {
        "id": "ZLku2PD5TMbC"
      },
      "source": [
        ""
      ],
      "execution_count": null,
      "outputs": []
    },
    {
      "cell_type": "code",
      "metadata": {
        "id": "Nsysnk2qyNAE"
      },
      "source": [
        "dfs = []\n",
        "def dataFrameMaker(i):\n",
        "  fname = re.findall('/([0-9]+)',i)[0]\n",
        "  file = open(f\"cache/epub/{fname}/pg{fname}.rdf\")\n",
        "  genres = re.findall('<rdf:value>([^<]*)',file.read())\n",
        "  text = open(i,errors='ignore').read()\n",
        "  dfs.append(pd.DataFrame({\"text\":[text],\"genres\":[genres]}))\n",
        "with ThreadPoolExecutor(5) as executor:\n",
        "  for _ in executor.map(dataFrameMaker,novelData):\n",
        "    pass"
      ],
      "execution_count": null,
      "outputs": []
    },
    {
      "cell_type": "code",
      "metadata": {
        "colab": {
          "base_uri": "https://localhost:8080/"
        },
        "id": "yeA_o6m-dL2Z",
        "outputId": "ff51f20a-a179-4dce-c2cf-53f3ff5f0874"
      },
      "source": [
        "dj = {\"NovelID\":[],\"Genres\":[]}\n",
        "for file in novelData:\n",
        "  try:\n",
        "    with open(f\"/content/cache/epub/{file}/pg{file}.rdf\") as f:\n",
        "      genres = re.findall('<rdf:value>([^<]*)',f.read())\n",
        "      dj['NovelID'].append(file)\n",
        "      dj['Genres'].append(genres)\n",
        "  except Exception as e:\n",
        "    print(e)"
      ],
      "execution_count": null,
      "outputs": [
        {
          "output_type": "stream",
          "text": [
            "[Errno 2] No such file or directory: '/content/cache/epub/64349-8/pg64349-8.rdf'\n",
            "[Errno 2] No such file or directory: '/content/cache/epub/89-AnnexI/pg89-AnnexI.rdf'\n",
            "[Errno 2] No such file or directory: '/content/cache/epub/64400-0/pg64400-0.rdf'\n",
            "[Errno 2] No such file or directory: '/content/cache/epub/89-Contents/pg89-Contents.rdf'\n",
            "[Errno 2] No such file or directory: '/content/cache/epub/64317-0/pg64317-0.rdf'\n",
            "[Errno 2] No such file or directory: '/content/cache/epub/89-Descriptions/pg89-Descriptions.rdf'\n",
            "[Errno 2] No such file or directory: '/content/cache/epub/10681-body/pg10681-body.rdf'\n",
            "[Errno 2] No such file or directory: '/content/cache/epub/3290-u/pg3290-u.rdf'\n"
          ],
          "name": "stdout"
        }
      ]
    },
    {
      "cell_type": "code",
      "metadata": {
        "colab": {
          "base_uri": "https://localhost:8080/",
          "height": 204
        },
        "id": "HA9Nz0bbebLW",
        "outputId": "29d5cecc-7f61-46b3-d358-ac039347a0b0"
      },
      "source": [
        "import pandas as pd\n",
        "df = pd.read_csv('genredj.csv')\n",
        "df=df.explode('Genres')\n",
        "df.Genres = df.Genres.str.lower()\n",
        "df = df.drop('Unnamed: 0', axis=1)\n",
        "df.head()"
      ],
      "execution_count": null,
      "outputs": [
        {
          "output_type": "execute_result",
          "data": {
            "text/html": [
              "<div>\n",
              "<style scoped>\n",
              "    .dataframe tbody tr th:only-of-type {\n",
              "        vertical-align: middle;\n",
              "    }\n",
              "\n",
              "    .dataframe tbody tr th {\n",
              "        vertical-align: top;\n",
              "    }\n",
              "\n",
              "    .dataframe thead th {\n",
              "        text-align: right;\n",
              "    }\n",
              "</style>\n",
              "<table border=\"1\" class=\"dataframe\">\n",
              "  <thead>\n",
              "    <tr style=\"text-align: right;\">\n",
              "      <th></th>\n",
              "      <th>NovelID</th>\n",
              "      <th>Genres</th>\n",
              "    </tr>\n",
              "  </thead>\n",
              "  <tbody>\n",
              "    <tr>\n",
              "      <th>0</th>\n",
              "      <td>36880</td>\n",
              "      <td>text</td>\n",
              "    </tr>\n",
              "    <tr>\n",
              "      <th>1</th>\n",
              "      <td>36880</td>\n",
              "      <td>pz</td>\n",
              "    </tr>\n",
              "    <tr>\n",
              "      <th>2</th>\n",
              "      <td>36880</td>\n",
              "      <td>uncles -- juvenile fiction</td>\n",
              "    </tr>\n",
              "    <tr>\n",
              "      <th>3</th>\n",
              "      <td>36880</td>\n",
              "      <td>christian life -- juvenile fiction</td>\n",
              "    </tr>\n",
              "    <tr>\n",
              "      <th>4</th>\n",
              "      <td>36880</td>\n",
              "      <td>young women -- conduct of life -- juvenile fic...</td>\n",
              "    </tr>\n",
              "  </tbody>\n",
              "</table>\n",
              "</div>"
            ],
            "text/plain": [
              "   NovelID                                             Genres\n",
              "0    36880                                               text\n",
              "1    36880                                                 pz\n",
              "2    36880                         uncles -- juvenile fiction\n",
              "3    36880                 christian life -- juvenile fiction\n",
              "4    36880  young women -- conduct of life -- juvenile fic..."
            ]
          },
          "metadata": {
            "tags": []
          },
          "execution_count": 6
        }
      ]
    },
    {
      "cell_type": "code",
      "metadata": {
        "colab": {
          "base_uri": "https://localhost:8080/",
          "height": 419
        },
        "id": "KYJoWg8EhukD",
        "outputId": "78b7c26f-4c74-495e-cd65-22ec6a12adb7"
      },
      "source": [
        "genreFrame = df['Genres'].value_counts().to_frame()\n",
        "genreFrame = genreFrame.reset_index()\n",
        "genreFrame.columns =['Genre','Count']\n",
        "genreFrame"
      ],
      "execution_count": null,
      "outputs": [
        {
          "output_type": "execute_result",
          "data": {
            "text/html": [
              "<div>\n",
              "<style scoped>\n",
              "    .dataframe tbody tr th:only-of-type {\n",
              "        vertical-align: middle;\n",
              "    }\n",
              "\n",
              "    .dataframe tbody tr th {\n",
              "        vertical-align: top;\n",
              "    }\n",
              "\n",
              "    .dataframe thead th {\n",
              "        text-align: right;\n",
              "    }\n",
              "</style>\n",
              "<table border=\"1\" class=\"dataframe\">\n",
              "  <thead>\n",
              "    <tr style=\"text-align: right;\">\n",
              "      <th></th>\n",
              "      <th>Genre</th>\n",
              "      <th>Count</th>\n",
              "    </tr>\n",
              "  </thead>\n",
              "  <tbody>\n",
              "    <tr>\n",
              "      <th>0</th>\n",
              "      <td>text</td>\n",
              "      <td>37613</td>\n",
              "    </tr>\n",
              "    <tr>\n",
              "      <th>1</th>\n",
              "      <td>ps</td>\n",
              "      <td>7695</td>\n",
              "    </tr>\n",
              "    <tr>\n",
              "      <th>2</th>\n",
              "      <td>pr</td>\n",
              "      <td>6512</td>\n",
              "    </tr>\n",
              "    <tr>\n",
              "      <th>3</th>\n",
              "      <td>pz</td>\n",
              "      <td>5083</td>\n",
              "    </tr>\n",
              "    <tr>\n",
              "      <th>4</th>\n",
              "      <td>science fiction</td>\n",
              "      <td>3111</td>\n",
              "    </tr>\n",
              "    <tr>\n",
              "      <th>...</th>\n",
              "      <td>...</td>\n",
              "      <td>...</td>\n",
              "    </tr>\n",
              "    <tr>\n",
              "      <th>23874</th>\n",
              "      <td>slaves -- drama</td>\n",
              "      <td>1</td>\n",
              "    </tr>\n",
              "    <tr>\n",
              "      <th>23875</th>\n",
              "      <td>united states. bureau of mines -- juvenile fic...</td>\n",
              "      <td>1</td>\n",
              "    </tr>\n",
              "    <tr>\n",
              "      <th>23876</th>\n",
              "      <td>art and morals</td>\n",
              "      <td>1</td>\n",
              "    </tr>\n",
              "    <tr>\n",
              "      <th>23877</th>\n",
              "      <td>women in charitable work -- england -- fiction</td>\n",
              "      <td>1</td>\n",
              "    </tr>\n",
              "    <tr>\n",
              "      <th>23878</th>\n",
              "      <td>bible -- controversial literature</td>\n",
              "      <td>1</td>\n",
              "    </tr>\n",
              "  </tbody>\n",
              "</table>\n",
              "<p>23879 rows × 2 columns</p>\n",
              "</div>"
            ],
            "text/plain": [
              "                                                   Genre  Count\n",
              "0                                                   text  37613\n",
              "1                                                     ps   7695\n",
              "2                                                     pr   6512\n",
              "3                                                     pz   5083\n",
              "4                                        science fiction   3111\n",
              "...                                                  ...    ...\n",
              "23874                                    slaves -- drama      1\n",
              "23875  united states. bureau of mines -- juvenile fic...      1\n",
              "23876                                     art and morals      1\n",
              "23877     women in charitable work -- england -- fiction      1\n",
              "23878                  bible -- controversial literature      1\n",
              "\n",
              "[23879 rows x 2 columns]"
            ]
          },
          "metadata": {
            "tags": []
          },
          "execution_count": 7
        }
      ]
    },
    {
      "cell_type": "code",
      "metadata": {
        "colab": {
          "base_uri": "https://localhost:8080/",
          "height": 266
        },
        "id": "8cE_0z8VeSW0",
        "outputId": "df9e7059-69d5-4e61-ac19-9361a06488c0"
      },
      "source": [
        "genreFrame[genreFrame.Genre.str.contains('horror')] # fantasy"
      ],
      "execution_count": null,
      "outputs": [
        {
          "output_type": "execute_result",
          "data": {
            "text/html": [
              "<div>\n",
              "<style scoped>\n",
              "    .dataframe tbody tr th:only-of-type {\n",
              "        vertical-align: middle;\n",
              "    }\n",
              "\n",
              "    .dataframe tbody tr th {\n",
              "        vertical-align: top;\n",
              "    }\n",
              "\n",
              "    .dataframe thead th {\n",
              "        text-align: right;\n",
              "    }\n",
              "</style>\n",
              "<table border=\"1\" class=\"dataframe\">\n",
              "  <thead>\n",
              "    <tr style=\"text-align: right;\">\n",
              "      <th></th>\n",
              "      <th>Genre</th>\n",
              "      <th>Count</th>\n",
              "    </tr>\n",
              "  </thead>\n",
              "  <tbody>\n",
              "    <tr>\n",
              "      <th>231</th>\n",
              "      <td>horror tales</td>\n",
              "      <td>71</td>\n",
              "    </tr>\n",
              "    <tr>\n",
              "      <th>519</th>\n",
              "      <td>horror</td>\n",
              "      <td>34</td>\n",
              "    </tr>\n",
              "    <tr>\n",
              "      <th>1099</th>\n",
              "      <td>horror tales, english</td>\n",
              "      <td>14</td>\n",
              "    </tr>\n",
              "    <tr>\n",
              "      <th>2177</th>\n",
              "      <td>horror tales, american</td>\n",
              "      <td>7</td>\n",
              "    </tr>\n",
              "    <tr>\n",
              "      <th>11298</th>\n",
              "      <td>horror films</td>\n",
              "      <td>1</td>\n",
              "    </tr>\n",
              "    <tr>\n",
              "      <th>17475</th>\n",
              "      <td>horror tales -- appreciation -- fiction</td>\n",
              "      <td>1</td>\n",
              "    </tr>\n",
              "    <tr>\n",
              "      <th>18108</th>\n",
              "      <td>horror tales, english -- history and criticism</td>\n",
              "      <td>1</td>\n",
              "    </tr>\n",
              "  </tbody>\n",
              "</table>\n",
              "</div>"
            ],
            "text/plain": [
              "                                                Genre  Count\n",
              "231                                      horror tales     71\n",
              "519                                            horror     34\n",
              "1099                            horror tales, english     14\n",
              "2177                           horror tales, american      7\n",
              "11298                                    horror films      1\n",
              "17475         horror tales -- appreciation -- fiction      1\n",
              "18108  horror tales, english -- history and criticism      1"
            ]
          },
          "metadata": {
            "tags": []
          },
          "execution_count": 8
        }
      ]
    },
    {
      "cell_type": "code",
      "metadata": {
        "colab": {
          "base_uri": "https://localhost:8080/"
        },
        "id": "kNwLL0OI5Ozg",
        "outputId": "0091fca0-27d4-48c7-dfab-743c9ea4c85d"
      },
      "source": [
        "genreFrame[genreFrame.Genre.str.contains('horror')]['Genre'][:5].tolist()"
      ],
      "execution_count": null,
      "outputs": [
        {
          "output_type": "execute_result",
          "data": {
            "text/plain": [
              "['horror tales',\n",
              " 'horror',\n",
              " 'horror tales, english',\n",
              " 'horror tales, american',\n",
              " 'horror films']"
            ]
          },
          "metadata": {
            "tags": []
          },
          "execution_count": 13
        }
      ]
    },
    {
      "cell_type": "code",
      "metadata": {
        "colab": {
          "base_uri": "https://localhost:8080/"
        },
        "id": "r1687hpb4oX5",
        "outputId": "eaad94bb-ca6d-4e71-9e33-649ebf6b5707"
      },
      "source": [
        "# genreFrame[genreFrame.Genre.str.contains('fantasy')]\n",
        "df1 = df.loc[df['Genres'] == 'fantasy fiction']\n",
        "df1['Genres'] = 'Fiction'\n",
        "df2 = df.loc[df['Genres'].isin(genreFrame[genreFrame.Genre.str.contains('horror')]['Genre'][:5].tolist())]\n",
        "df2['Genres'] = 'Horror'\n",
        "horror_fantasyDF = pd.concat([df1,df2])\n",
        "horror_fantasyDF = horror_fantasyDF.to_dict()"
      ],
      "execution_count": null,
      "outputs": [
        {
          "output_type": "stream",
          "text": [
            "/usr/local/lib/python3.6/dist-packages/ipykernel_launcher.py:3: SettingWithCopyWarning: \n",
            "A value is trying to be set on a copy of a slice from a DataFrame.\n",
            "Try using .loc[row_indexer,col_indexer] = value instead\n",
            "\n",
            "See the caveats in the documentation: https://pandas.pydata.org/pandas-docs/stable/user_guide/indexing.html#returning-a-view-versus-a-copy\n",
            "  This is separate from the ipykernel package so we can avoid doing imports until\n",
            "/usr/local/lib/python3.6/dist-packages/ipykernel_launcher.py:5: SettingWithCopyWarning: \n",
            "A value is trying to be set on a copy of a slice from a DataFrame.\n",
            "Try using .loc[row_indexer,col_indexer] = value instead\n",
            "\n",
            "See the caveats in the documentation: https://pandas.pydata.org/pandas-docs/stable/user_guide/indexing.html#returning-a-view-versus-a-copy\n",
            "  \"\"\"\n"
          ],
          "name": "stderr"
        }
      ]
    },
    {
      "cell_type": "code",
      "metadata": {
        "id": "pK8Z843J6QDr"
      },
      "source": [
        "ndj = {'Text':{},'Genre':{},'Novel_id':{}}\n",
        "for name in horror_fantasyDF['NovelID']:\n",
        "  filename = horror_fantasyDF['NovelID'][name]\n",
        "  Genre = horror_fantasyDF['Genres'][name]\n",
        "  with open(f'NewTemp/{filename}.txt',errors='ignore') as f:\n",
        "    string = f.read()\n",
        "  ndj['Text'][name] = cleanHeaderFooter(string)\n",
        "  ndj['Novel_id'][name] = filename\n",
        "  ndj['Genre'][name] = Genre"
      ],
      "execution_count": null,
      "outputs": []
    },
    {
      "cell_type": "code",
      "metadata": {
        "id": "Wmu2gq-z77d_"
      },
      "source": [
        "horror_fantasyDF = pd.DataFrame(ndj)\n",
        "horror_fantasyDF.to_csv('horror_fantasy.csv')\n",
        "!mv horror_fantasy.csv drive/MyDrive/UGRA/"
      ],
      "execution_count": null,
      "outputs": []
    },
    {
      "cell_type": "code",
      "metadata": {
        "id": "J2jw7kaD6BcX"
      },
      "source": [
        ""
      ],
      "execution_count": null,
      "outputs": []
    },
    {
      "cell_type": "code",
      "metadata": {
        "colab": {
          "base_uri": "https://localhost:8080/",
          "height": 204
        },
        "id": "Iam65zHX_54C",
        "outputId": "8f355142-9598-4e77-8cfa-53f9548f5d01"
      },
      "source": [
        "FictionDataFrame = df.loc[ df.Genres.isin(genreFrame[genreFrame.Genre.str.contains('fiction')].head(5)['Genre'].to_list())]\n",
        "fictionNovelIds = list(map(lambda x: str(x)+\".txt\",FictionDataFrame['NovelID'].to_list()))\n",
        "FictionDataFrame.head()"
      ],
      "execution_count": null,
      "outputs": [
        {
          "output_type": "execute_result",
          "data": {
            "text/html": [
              "<div>\n",
              "<style scoped>\n",
              "    .dataframe tbody tr th:only-of-type {\n",
              "        vertical-align: middle;\n",
              "    }\n",
              "\n",
              "    .dataframe tbody tr th {\n",
              "        vertical-align: top;\n",
              "    }\n",
              "\n",
              "    .dataframe thead th {\n",
              "        text-align: right;\n",
              "    }\n",
              "</style>\n",
              "<table border=\"1\" class=\"dataframe\">\n",
              "  <thead>\n",
              "    <tr style=\"text-align: right;\">\n",
              "      <th></th>\n",
              "      <th>NovelID</th>\n",
              "      <th>Genres</th>\n",
              "    </tr>\n",
              "  </thead>\n",
              "  <tbody>\n",
              "    <tr>\n",
              "      <th>21</th>\n",
              "      <td>36313</td>\n",
              "      <td>conduct of life -- juvenile fiction</td>\n",
              "    </tr>\n",
              "    <tr>\n",
              "      <th>72</th>\n",
              "      <td>39768</td>\n",
              "      <td>fiction</td>\n",
              "    </tr>\n",
              "    <tr>\n",
              "      <th>87</th>\n",
              "      <td>32054</td>\n",
              "      <td>science fiction</td>\n",
              "    </tr>\n",
              "    <tr>\n",
              "      <th>88</th>\n",
              "      <td>32054</td>\n",
              "      <td>science fiction</td>\n",
              "    </tr>\n",
              "    <tr>\n",
              "      <th>101</th>\n",
              "      <td>14303</td>\n",
              "      <td>fiction</td>\n",
              "    </tr>\n",
              "  </tbody>\n",
              "</table>\n",
              "</div>"
            ],
            "text/plain": [
              "     NovelID                               Genres\n",
              "21     36313  conduct of life -- juvenile fiction\n",
              "72     39768                              fiction\n",
              "87     32054                      science fiction\n",
              "88     32054                      science fiction\n",
              "101    14303                              fiction"
            ]
          },
          "metadata": {
            "tags": []
          },
          "execution_count": 132
        }
      ]
    },
    {
      "cell_type": "code",
      "metadata": {
        "id": "89h9WaKyNX1z"
      },
      "source": [
        "fictionNovelDict = FictionDataFrame[['NovelID','Genres']].to_dict()\n",
        "fictionNovelDict"
      ],
      "execution_count": null,
      "outputs": []
    },
    {
      "cell_type": "code",
      "metadata": {
        "id": "h7-CFP6zjfgU"
      },
      "source": [
        "(ngenreFrame = genreFrame.loc[(genreFrame.Count>50) & (genreFrame.Genre.str.len()>4) &]\n",
        "ngenreFrame.Genre.tolist()"
      ],
      "execution_count": null,
      "outputs": []
    },
    {
      "cell_type": "code",
      "metadata": {
        "id": "VkS-cp2bNJF3"
      },
      "source": [
        "ndj = {'Text':{},'Genre':{},'Novel_id':{}}\n",
        "for name in fictionNovelDict['NovelID']:\n",
        "  filename = fictionNovelDict['NovelID'][name]\n",
        "  Genre = fictionNovelDict['Genres'][name]\n",
        "  with open(f'NewTemp/{filename}.txt',errors='ignore') as f:\n",
        "    string = f.read()\n",
        "  ndj['Text'][name] = cleanHeaderFooter(string)\n",
        "  ndj['Novel_id'][name] = filename\n",
        "  ndj['Genre'][name] = Genre"
      ],
      "execution_count": null,
      "outputs": []
    },
    {
      "cell_type": "code",
      "metadata": {
        "colab": {
          "base_uri": "https://localhost:8080/"
        },
        "id": "5KwEhtTKiFfb",
        "outputId": "77502b82-4377-4182-d5f1-cc85ab659264"
      },
      "source": [
        "tff = pd.read_csv('drive/MyDrive/UGRA/fiction.csv')\n",
        "tff = tff.reset_index()\n",
        "tff = tff.drop([\"index\",\"Unnamed: 0\"],axis=1)\n",
        "tff['Genre'] = tff.Genre.replace({\"conduct of life -- juvenile fiction\":\"juvenile fiction\",\"man-woman relationships -- fiction\":\"romantic fiction\"})\n",
        "tff['Genre'].value_counts()"
      ],
      "execution_count": null,
      "outputs": [
        {
          "output_type": "execute_result",
          "data": {
            "text/plain": [
              "science fiction       3111\n",
              "fiction               1204\n",
              "historical fiction     764\n",
              "juvenile fiction       648\n",
              "romantic fiction       420\n",
              "Name: Genre, dtype: int64"
            ]
          },
          "metadata": {
            "tags": []
          },
          "execution_count": 6
        }
      ]
    },
    {
      "cell_type": "code",
      "metadata": {
        "colab": {
          "base_uri": "https://localhost:8080/",
          "height": 204
        },
        "id": "a9J7iSnvgl_C",
        "outputId": "bffaebee-415a-4f42-ba0f-f32279970bb0"
      },
      "source": [
        "tff.head()"
      ],
      "execution_count": null,
      "outputs": [
        {
          "output_type": "execute_result",
          "data": {
            "text/html": [
              "<div>\n",
              "<style scoped>\n",
              "    .dataframe tbody tr th:only-of-type {\n",
              "        vertical-align: middle;\n",
              "    }\n",
              "\n",
              "    .dataframe tbody tr th {\n",
              "        vertical-align: top;\n",
              "    }\n",
              "\n",
              "    .dataframe thead th {\n",
              "        text-align: right;\n",
              "    }\n",
              "</style>\n",
              "<table border=\"1\" class=\"dataframe\">\n",
              "  <thead>\n",
              "    <tr style=\"text-align: right;\">\n",
              "      <th></th>\n",
              "      <th>Text</th>\n",
              "      <th>Genre</th>\n",
              "      <th>Novel_id</th>\n",
              "    </tr>\n",
              "  </thead>\n",
              "  <tbody>\n",
              "    <tr>\n",
              "      <th>0</th>\n",
              "      <td>\\nFor those who have not read the first volume...</td>\n",
              "      <td>juvenile fiction</td>\n",
              "      <td>36313</td>\n",
              "    </tr>\n",
              "    <tr>\n",
              "      <th>1</th>\n",
              "      <td>generously made available by The Internet Arch...</td>\n",
              "      <td>fiction</td>\n",
              "      <td>39768</td>\n",
              "    </tr>\n",
              "    <tr>\n",
              "      <th>2</th>\n",
              "      <td>Transcriber's Note:\\n...</td>\n",
              "      <td>science fiction</td>\n",
              "      <td>32054</td>\n",
              "    </tr>\n",
              "    <tr>\n",
              "      <th>3</th>\n",
              "      <td>Transcriber's Note:\\n...</td>\n",
              "      <td>science fiction</td>\n",
              "      <td>32054</td>\n",
              "    </tr>\n",
              "    <tr>\n",
              "      <th>4</th>\n",
              "      <td>The Riverside Press Cambridge\\n1911III\\n_Encou...</td>\n",
              "      <td>fiction</td>\n",
              "      <td>14303</td>\n",
              "    </tr>\n",
              "  </tbody>\n",
              "</table>\n",
              "</div>"
            ],
            "text/plain": [
              "                                                Text  ... Novel_id\n",
              "0  \\nFor those who have not read the first volume...  ...    36313\n",
              "1  generously made available by The Internet Arch...  ...    39768\n",
              "2                           Transcriber's Note:\\n...  ...    32054\n",
              "3                           Transcriber's Note:\\n...  ...    32054\n",
              "4  The Riverside Press Cambridge\\n1911III\\n_Encou...  ...    14303\n",
              "\n",
              "[5 rows x 3 columns]"
            ]
          },
          "metadata": {
            "tags": []
          },
          "execution_count": 7
        }
      ]
    },
    {
      "cell_type": "code",
      "metadata": {
        "colab": {
          "base_uri": "https://localhost:8080/"
        },
        "id": "HBjUkw5tmC7Q",
        "outputId": "ec108440-e8ab-44ae-fb12-8d3fe094cc95"
      },
      "source": [
        "def cleanDataFrame(df):\n",
        "  df_data = df.copy()\n",
        "  # df_data['Genre'] = df_data['Genre'].apply(lambda x: [i for i in eval(x)])\n",
        "  #Column ['Text'] pre-processing by converting it to lower case\n",
        "  df_data.Text = df_data.Text.str.lower()\n",
        "  # Sentence Tokenise\n",
        "  df_data.['SentenceTokenised'] = df_data.Text.apply(lambda text: sent_tokenize(text))\n",
        "  #HREF Links Removal\n",
        "  df_data.Text = df_data.Text.apply(lambda text: re.compile(r'https?://\\S+|www\\.\\S+').sub(r'',text))\n",
        "  df_data.Text = df_data.Text.apply(lambda text: re.compile(r'http?://\\S+|www\\.\\S+').sub(r'',text))\n",
        "  #HTML Text Removal\n",
        "  df_data.Text = df_data.Text.apply(lambda text: BeautifulSoup(text,'html.parser').text)\n",
        "  #removing numbers\n",
        "  df_data.Text = df_data.Text.apply(lambda text: re.sub('\\d+','',text))\n",
        "  #Decontraction\n",
        "  df_data.Text = df_data.Text.apply(lambda x :decontracted(x))\n",
        "  #Punctuations Removal\n",
        "  df_data.Text = df_data.Text.str.replace('[^\\w\\s]','')\n",
        "  #StopWords Removal\n",
        "  df_data.Text = [ \" \".join(([word for word in word_tokenize(i) if not word in list((stopwords.words('english')))]))  for i in df_data.Text ]\n",
        "  #Lemmatization - Aiming to remove inflectional endings and return the base meaning or dictionary meaning of a word also known as lemma\n",
        "  df_data.Text = df_data.Text.apply(lambda text: lemmatizer.lemmatize(text))\n",
        "  #Tokenization - We'll be using white space tokenizer as other tokenizers separate on condition which doesn't help us portray meaninng of words\n",
        "  df_data['tokenised_text'] = [[word for word in word_tokenize(i)] for i in df_data.Text]\n",
        "  #Recheck for missing values\n",
        "  print(\"No Missing Data\" if (df_data.Text.isna().any()==False ) else False)\n",
        "\n",
        "  df_data"
      ],
      "execution_count": null,
      "outputs": [
        {
          "output_type": "stream",
          "text": [
            "/usr/local/lib/python3.6/dist-packages/ipykernel_launcher.py:1: UserWarning: Pandas doesn't allow columns to be created via a new attribute name - see https://pandas.pydata.org/pandas-docs/stable/indexing.html#attribute-access\n",
            "  \"\"\"Entry point for launching an IPython kernel.\n"
          ],
          "name": "stderr"
        }
      ]
    },
    {
      "cell_type": "code",
      "metadata": {
        "id": "Qfv-SN_fm9cH"
      },
      "source": [
        "sentenceDF = pd.read_csv('/content/drive/MyDrive/UGRA/lilFilterFiction.csv')\n",
        "sentenceDF[['SentenceTokenised']] = sentenceDF['SentenceTokenised'].apply(lambda x: eval(x))\n",
        "sentenceDF = sentenceDF.explode('SentenceTokenised')[['Genre','Novel_id','SentenceTokenised']]\n",
        "# sentenceDF.columns = ['Genre','Novel_id','Text']\n",
        "# sentenceDF.Text = sentenceDF.Text.apply(lambda text: re.compile(r'https?://\\S+|www\\.\\S+').sub(r'',text))\n",
        "# sentenceDF.Text = sentenceDF.Text.apply(lambda text: re.compile(r'http?://\\S+|www\\.\\S+').sub(r'',text))\n",
        "#HTML Text Removal\n",
        "sentenceDF.Text = sentenceDF.Text.apply(lambda text: BeautifulSoup(text,'html.parser').text)\n",
        "#removing numbers\n",
        "sentenceDF.Text = sentenceDF.Text.apply(lambda text: re.sub('\\d+','',text))\n",
        "#Decontraction\n",
        "sentenceDF.Text = sentenceDF.Text.apply(lambda x :decontracted(x))\n",
        "#Punctuations Removal\n",
        "sentenceDF.Text = sentenceDF.Text.str.replace('[^\\w\\s]','')\n",
        "#StopWords Removal\n",
        "sentenceDF.Text = [ \" \".join(([word for word in word_tokenize(i) if not word in list((stopwords.words('english')))]))  for i in sentenceDF.Text ]\n",
        "#Lemmatization - Aiming to remove inflectional endings and return the base meaning or dictionary meaning of a word also known as lemma\n",
        "sentenceDF.Text = sentenceDF.Text.apply(lambda text: lemmatizer.lemmatize(text))\n",
        "#Tokenization - We'll be using white space tokenizer as other tokenizers separate on condition which doesn't help us portray meaninng of words\n",
        "sentenceDF['tokenised_text'] = [[word for word in word_tokenize(i)] for i in sentenceDF.Text]\n",
        "#Recheck for missing values\n",
        "print(\"No Missing Data\" if (sentenceDF.Text.isna().any()==False ) else False)"
      ],
      "execution_count": null,
      "outputs": []
    },
    {
      "cell_type": "code",
      "metadata": {
        "id": "otlzfbVAXtrQ"
      },
      "source": [
        "fracDF.columns = ['Genre','Novel_id','Text']\n",
        "fracDF.Text = fracDF.Text.apply(lambda text: re.compile(r'https?://\\S+|www\\.\\S+').sub(r'',text))\n",
        "fracDF.Text = fracDF.Text.apply(lambda text: re.compile(r'http?://\\S+|www\\.\\S+').sub(r'',text))\n",
        "#HTML Text Removal\n",
        "fracDF.Text = fracDF.Text.apply(lambda text: BeautifulSoup(text,'html.parser').text)\n",
        "#removing numbers\n",
        "fracDF.Text = fracDF.Text.apply(lambda text: re.sub('\\d+','',text))\n",
        "#Decontraction\n",
        "fracDF.Text = fracDF.Text.apply(lambda x :decontracted(x))\n",
        "#Punctuations Removal\n",
        "fracDF.Text = fracDF.Text.str.replace('[^\\w\\s]','')\n",
        "fracDF.Text = fracDF.Text.str.replace('\\n','')\n",
        "#StopWords Removal\n",
        "fracDF.Text = [ \" \".join(([word for word in word_tokenize(i) if not word in list((stopwords.words('english')))]))  for i in fracDF.Text ]\n",
        "#Lemmatization - Aiming to remove inflectional endings and return the base meaning or dictionary meaning of a word also known as lemma\n",
        "fracDF.Text = fracDF.Text.apply(lambda text: lemmatizer.lemmatize(text))\n",
        "#Tokenization - We'll be using white space tokenizer as other tokenizers separate on condition which doesn't help us portray meaninng of words\n",
        "fracDF['tokenised_text'] = [[word for word in word_tokenize(i)] for i in fracDF.Text]\n",
        "#Recheck for missing values\n",
        "print(\"No Missing Data\" if (fracDF.Text.isna().any()==False ) else False)"
      ],
      "execution_count": null,
      "outputs": []
    },
    {
      "cell_type": "code",
      "metadata": {
        "id": "euYEk-QL-wy3"
      },
      "source": [
        "fracDF = sentenceDF.sample(frac=1)\n",
        "fracDF.to_csv('fracDF.csv')"
      ],
      "execution_count": null,
      "outputs": []
    },
    {
      "cell_type": "code",
      "metadata": {
        "colab": {
          "base_uri": "https://localhost:8080/",
          "height": 419
        },
        "id": "5B4EAGmB_rDw",
        "outputId": "2f95a813-b70c-4e49-f1d2-65d17356decc"
      },
      "source": [
        "fracDF.head(100)"
      ],
      "execution_count": null,
      "outputs": [
        {
          "output_type": "execute_result",
          "data": {
            "text/html": [
              "<div>\n",
              "<style scoped>\n",
              "    .dataframe tbody tr th:only-of-type {\n",
              "        vertical-align: middle;\n",
              "    }\n",
              "\n",
              "    .dataframe tbody tr th {\n",
              "        vertical-align: top;\n",
              "    }\n",
              "\n",
              "    .dataframe thead th {\n",
              "        text-align: right;\n",
              "    }\n",
              "</style>\n",
              "<table border=\"1\" class=\"dataframe\">\n",
              "  <thead>\n",
              "    <tr style=\"text-align: right;\">\n",
              "      <th></th>\n",
              "      <th>Genre</th>\n",
              "      <th>Novel_id</th>\n",
              "      <th>Text</th>\n",
              "    </tr>\n",
              "  </thead>\n",
              "  <tbody>\n",
              "    <tr>\n",
              "      <th>683</th>\n",
              "      <td>fiction</td>\n",
              "      <td>29743</td>\n",
              "      <td>hewas only looking to see whether the telling ...</td>\n",
              "    </tr>\n",
              "    <tr>\n",
              "      <th>4037</th>\n",
              "      <td>fiction</td>\n",
              "      <td>29699</td>\n",
              "      <td>retorted norah sureshes as foine a crayther as...</td>\n",
              "    </tr>\n",
              "    <tr>\n",
              "      <th>4939</th>\n",
              "      <td>fiction</td>\n",
              "      <td>12450</td>\n",
              "      <td>and a certainty grew in his brainthat it was t...</td>\n",
              "    </tr>\n",
              "    <tr>\n",
              "      <th>1474</th>\n",
              "      <td>juvenile fiction</td>\n",
              "      <td>43134</td>\n",
              "      <td>miss fforde had danced oncebut only once</td>\n",
              "    </tr>\n",
              "    <tr>\n",
              "      <th>2370</th>\n",
              "      <td>romantic fiction</td>\n",
              "      <td>40064</td>\n",
              "      <td>nobody ever asks them whether or not they wish...</td>\n",
              "    </tr>\n",
              "    <tr>\n",
              "      <th>...</th>\n",
              "      <td>...</td>\n",
              "      <td>...</td>\n",
              "      <td>...</td>\n",
              "    </tr>\n",
              "    <tr>\n",
              "      <th>4154</th>\n",
              "      <td>romantic fiction</td>\n",
              "      <td>38703</td>\n",
              "      <td>carstares clapped a hand on his shoulder</td>\n",
              "    </tr>\n",
              "    <tr>\n",
              "      <th>5565</th>\n",
              "      <td>romantic fiction</td>\n",
              "      <td>19742</td>\n",
              "      <td>she wanted toplay heroine now with somerled as...</td>\n",
              "    </tr>\n",
              "    <tr>\n",
              "      <th>3295</th>\n",
              "      <td>romantic fiction</td>\n",
              "      <td>38796</td>\n",
              "      <td>err onthe safe side he said</td>\n",
              "    </tr>\n",
              "    <tr>\n",
              "      <th>148</th>\n",
              "      <td>science fiction</td>\n",
              "      <td>23612</td>\n",
              "      <td>i wouldadvise you to expect your best informat...</td>\n",
              "    </tr>\n",
              "    <tr>\n",
              "      <th>5866</th>\n",
              "      <td>romantic fiction</td>\n",
              "      <td>33012</td>\n",
              "      <td>she assented as enlaced they went up again to ...</td>\n",
              "    </tr>\n",
              "  </tbody>\n",
              "</table>\n",
              "<p>100 rows × 3 columns</p>\n",
              "</div>"
            ],
            "text/plain": [
              "                 Genre  ...                                               Text\n",
              "683            fiction  ...  hewas only looking to see whether the telling ...\n",
              "4037           fiction  ...  retorted norah sureshes as foine a crayther as...\n",
              "4939           fiction  ...  and a certainty grew in his brainthat it was t...\n",
              "1474  juvenile fiction  ...           miss fforde had danced oncebut only once\n",
              "2370  romantic fiction  ...  nobody ever asks them whether or not they wish...\n",
              "...                ...  ...                                                ...\n",
              "4154  romantic fiction  ...           carstares clapped a hand on his shoulder\n",
              "5565  romantic fiction  ...  she wanted toplay heroine now with somerled as...\n",
              "3295  romantic fiction  ...                        err onthe safe side he said\n",
              "148    science fiction  ...  i wouldadvise you to expect your best informat...\n",
              "5866  romantic fiction  ...  she assented as enlaced they went up again to ...\n",
              "\n",
              "[100 rows x 3 columns]"
            ]
          },
          "metadata": {
            "tags": []
          },
          "execution_count": 35
        }
      ]
    },
    {
      "cell_type": "code",
      "metadata": {
        "id": "iFSzb4ZNGgGG"
      },
      "source": [
        "fracDF.to_csv('/content/fracDF.csv')"
      ],
      "execution_count": null,
      "outputs": []
    },
    {
      "cell_type": "code",
      "metadata": {
        "id": "Y8ixR8gaI8oh"
      },
      "source": [
        "!cp fracDF.csv /content/drive/MyDrive/UGRA"
      ],
      "execution_count": null,
      "outputs": []
    },
    {
      "cell_type": "markdown",
      "metadata": {
        "id": "ZQgLb0_hnIB0"
      },
      "source": [
        "#Bert"
      ]
    },
    {
      "cell_type": "code",
      "metadata": {
        "id": "XLe-hWGInJuq"
      },
      "source": [
        "!wget https://storage.googleapis.com/bert_models/2018_10_18/uncased_L-12_H-768_A-12.zip\n",
        "!unzip uncased_L-12_H-768_A-12.zip\n",
        "!pip install BertLibrary\n",
        "!pip install tensorflow-gpu==1.15.0"
      ],
      "execution_count": null,
      "outputs": []
    },
    {
      "cell_type": "code",
      "metadata": {
        "id": "kqrdUt0VLZav"
      },
      "source": [
        "import pandas as pd\n",
        "# fracDF = pd.read_csv('/content/drive/MyDrive/UGRA/fracDF.csv')\n",
        "# fracDF = pd.read_csv('/content/drive/MyDrive/UGRA/horrorFictionSentTokenised.csv')\n",
        "df = pd.read_csv('/content/teemp.csv')"
      ],
      "execution_count": null,
      "outputs": []
    },
    {
      "cell_type": "code",
      "metadata": {
        "colab": {
          "base_uri": "https://localhost:8080/",
          "height": 204
        },
        "id": "iUB_bdjMMqgp",
        "outputId": "3cf2c9a4-dce8-47ba-f90f-7ad12725295f"
      },
      "source": [
        "df.head()"
      ],
      "execution_count": null,
      "outputs": [
        {
          "output_type": "execute_result",
          "data": {
            "text/html": [
              "<div>\n",
              "<style scoped>\n",
              "    .dataframe tbody tr th:only-of-type {\n",
              "        vertical-align: middle;\n",
              "    }\n",
              "\n",
              "    .dataframe tbody tr th {\n",
              "        vertical-align: top;\n",
              "    }\n",
              "\n",
              "    .dataframe thead th {\n",
              "        text-align: right;\n",
              "    }\n",
              "</style>\n",
              "<table border=\"1\" class=\"dataframe\">\n",
              "  <thead>\n",
              "    <tr style=\"text-align: right;\">\n",
              "      <th></th>\n",
              "      <th>Unnamed: 0</th>\n",
              "      <th>Sent_Tokenize</th>\n",
              "      <th>Genre</th>\n",
              "    </tr>\n",
              "  </thead>\n",
              "  <tbody>\n",
              "    <tr>\n",
              "      <th>0</th>\n",
              "      <td>0</td>\n",
              "      <td>monsieur savary member le academie des sciences</td>\n",
              "      <td>Fiction</td>\n",
              "    </tr>\n",
              "    <tr>\n",
              "      <th>1</th>\n",
              "      <td>1</td>\n",
              "      <td>sternetristram shandy ch</td>\n",
              "      <td>Fiction</td>\n",
              "    </tr>\n",
              "    <tr>\n",
              "      <th>2</th>\n",
              "      <td>2</td>\n",
              "      <td>cccxxii</td>\n",
              "      <td>Fiction</td>\n",
              "    </tr>\n",
              "    <tr>\n",
              "      <th>3</th>\n",
              "      <td>3</td>\n",
              "      <td>towards end month october 1829 young man enter...</td>\n",
              "      <td>Fiction</td>\n",
              "    </tr>\n",
              "    <tr>\n",
              "      <th>4</th>\n",
              "      <td>4</td>\n",
              "      <td>mounted staircase one gambling hells distingui...</td>\n",
              "      <td>Fiction</td>\n",
              "    </tr>\n",
              "  </tbody>\n",
              "</table>\n",
              "</div>"
            ],
            "text/plain": [
              "   Unnamed: 0                                      Sent_Tokenize    Genre\n",
              "0           0    monsieur savary member le academie des sciences  Fiction\n",
              "1           1                           sternetristram shandy ch  Fiction\n",
              "2           2                                            cccxxii  Fiction\n",
              "3           3  towards end month october 1829 young man enter...  Fiction\n",
              "4           4  mounted staircase one gambling hells distingui...  Fiction"
            ]
          },
          "metadata": {
            "tags": []
          },
          "execution_count": 14
        }
      ]
    },
    {
      "cell_type": "code",
      "metadata": {
        "colab": {
          "base_uri": "https://localhost:8080/"
        },
        "id": "_QtO-aRqnXVi",
        "outputId": "861e1615-2622-436b-ab0e-4347ca5eabbc"
      },
      "source": [
        "from sklearn.model_selection import train_test_split\n",
        "from BertLibrary import BertFTModel\n",
        "TRAIN_SIZE = 0.75\n",
        "VAL_SIZE = 0.15\n",
        "label_text = df[['Sent_Tokenize','Genre']]\n",
        "label_text['Sent_Tokenize'] = label_text.Genre.replace({'Fiction':1, 'Horror':2})\n",
        "dataset_count = len(label_text)\n",
        "\n",
        "df_train_val, df_test = train_test_split(label_text, test_size=1-TRAIN_SIZE-VAL_SIZE, random_state=30)\n",
        "df_train, df_val = train_test_split(df_train_val, test_size=VAL_SIZE / (VAL_SIZE + TRAIN_SIZE), random_state=30)\n",
        "\n",
        "print(\"TRAIN size:\", len(df_train))\n",
        "print(\"VAL size:\", len(df_val))\n",
        "print(\"TEST size:\", len(df_test))\n",
        "ft_model = BertFTModel( model_dir='uncased_L-12_H-768_A-12',ckpt_name=\"bert_model.ckpt\",\n",
        "                       labels=['1','2'],lr=1e-05,num_train_steps=30000,\n",
        "                       num_warmup_steps=1000,ckpt_output_dir='output',save_check_steps=1000,\n",
        "                       do_lower_case=False,max_seq_len=50,batch_size=32,)\n",
        "ft_trainer =  ft_model.get_trainer()\n",
        "ft_evaluator = ft_model.get_evaluator()"
      ],
      "execution_count": null,
      "outputs": [
        {
          "output_type": "stream",
          "text": [
            "TRAIN size: 563085\n",
            "VAL size: 112618\n",
            "TEST size: 75079\n",
            "INFO:tensorflow:Using config: {'_model_dir': 'output', '_tf_random_seed': None, '_save_summary_steps': 100, '_save_checkpoints_steps': 1000, '_save_checkpoints_secs': None, '_session_config': device_count {\n",
            "  key: \"GPU\"\n",
            "  value: 1\n",
            "}\n",
            "gpu_options {\n",
            "  per_process_gpu_memory_fraction: 0.5\n",
            "  allow_growth: true\n",
            "}\n",
            ", '_keep_checkpoint_max': 5, '_keep_checkpoint_every_n_hours': 10000, '_log_step_count_steps': 100, '_train_distribute': None, '_device_fn': None, '_protocol': None, '_eval_distribute': None, '_experimental_distribute': None, '_experimental_max_worker_delay_secs': None, '_session_creation_timeout_secs': 7200, '_service': None, '_cluster_spec': <tensorflow.python.training.server_lib.ClusterSpec object at 0x7f7e3cc02198>, '_task_type': 'worker', '_task_id': 0, '_global_id_in_cluster': 0, '_master': '', '_evaluation_master': '', '_is_chief': True, '_num_ps_replicas': 0, '_num_worker_replicas': 1}\n"
          ],
          "name": "stdout"
        },
        {
          "output_type": "stream",
          "text": [
            "/usr/local/lib/python3.6/dist-packages/ipykernel_launcher.py:6: SettingWithCopyWarning: \n",
            "A value is trying to be set on a copy of a slice from a DataFrame.\n",
            "Try using .loc[row_indexer,col_indexer] = value instead\n",
            "\n",
            "See the caveats in the documentation: https://pandas.pydata.org/pandas-docs/stable/user_guide/indexing.html#returning-a-view-versus-a-copy\n",
            "  \n"
          ],
          "name": "stderr"
        }
      ]
    },
    {
      "cell_type": "code",
      "metadata": {
        "colab": {
          "base_uri": "https://localhost:8080/"
        },
        "id": "QXf8-YQBnzNd",
        "outputId": "b12845c5-ccf4-460d-86cc-1b783a7191d2"
      },
      "source": [
        "!mkdir ddatas\n",
        "df_train.sample(frac=1.0).reset_index(drop=True).to_csv('ddatas/train.tsv', sep='\\t', index=None, header=None)\n",
        "df_val.to_csv('ddatas/dev.tsv', sep='\\t', index=None, header=None)\n",
        "df_test.to_csv('ddatas/test.tsv', sep='\\t', index=None, header=None)\n",
        "! cd ddatas && ls"
      ],
      "execution_count": null,
      "outputs": [
        {
          "output_type": "stream",
          "text": [
            "mkdir: cannot create directory ‘ddatas’: File exists\n",
            "dev.tsv  test.tsv  train.tsv\n"
          ],
          "name": "stdout"
        }
      ]
    },
    {
      "cell_type": "code",
      "metadata": {
        "id": "nhFdkv_3n5P-"
      },
      "source": [
        "ft_trainer.train_from_file('ddatas',steps=30000)"
      ],
      "execution_count": null,
      "outputs": []
    },
    {
      "cell_type": "code",
      "metadata": {
        "id": "6592nF-wk980"
      },
      "source": [
        "# https://towardsdatascience.com/multi-class-text-classification-with-lstm-1590bee1bd17\n",
        "# https://towardsdatascience.com/multi-class-text-classification-with-lstm-using-tensorflow-2-0-d88627c10a35\n"
      ],
      "execution_count": null,
      "outputs": []
    },
    {
      "cell_type": "code",
      "metadata": {
        "id": "BTWvkftgoe1T"
      },
      "source": [
        "ft_evaluator.evaluate_from_file('ddatas') \n",
        "predictor =  ft_model.get_predictor()"
      ],
      "execution_count": null,
      "outputs": []
    },
    {
      "cell_type": "code",
      "metadata": {
        "colab": {
          "base_uri": "https://localhost:8080/"
        },
        "id": "DUjG9Rjcglmn",
        "outputId": "8e9000f8-0734-4147-de94-5ca7a6f2864d"
      },
      "source": [
        "predictor(['dont come said softly tiny smile old face'])"
      ],
      "execution_count": null,
      "outputs": [
        {
          "output_type": "execute_result",
          "data": {
            "text/plain": [
              "array([[0.55136305, 0.44863695]], dtype=float32)"
            ]
          },
          "metadata": {
            "tags": []
          },
          "execution_count": 32
        }
      ]
    },
    {
      "cell_type": "code",
      "metadata": {
        "colab": {
          "base_uri": "https://localhost:8080/",
          "height": 35
        },
        "id": "LZ9pWhIIgtdg",
        "outputId": "05133350-5119-4cbb-dba3-9416e6591a0d"
      },
      "source": [
        "df[df['Genre'] == 'Horror']['Sent_Tokenize'][750777]"
      ],
      "execution_count": null,
      "outputs": [
        {
          "output_type": "execute_result",
          "data": {
            "application/vnd.google.colaboratory.intrinsic+json": {
              "type": "string"
            },
            "text/plain": [
              "'dont come said softly tiny smile old face'"
            ]
          },
          "metadata": {
            "tags": []
          },
          "execution_count": 31
        }
      ]
    },
    {
      "cell_type": "code",
      "metadata": {
        "colab": {
          "base_uri": "https://localhost:8080/"
        },
        "id": "VQC0IE1Q7Nfd",
        "outputId": "a763fee0-7f49-4a32-9d20-2dcea750c2d3"
      },
      "source": [
        "import tensorflow as tf\n",
        "import os\n",
        "path = 'output'\n",
        "#path to output the new optimized model\n",
        "output_path = os.path.join(path, 'optimized_model')\n",
        "my_vars = []\n",
        "new_graph = tf.Graph()\n",
        "with tf.Session(graph=new_graph) as sess:\n",
        "  saver = tf.train.import_meta_graph('output/model.ckpt-15000.meta')\n",
        "  saver.restore(sess,'output/model.ckpt-15000') #based on the steps of your fine-tuned model\n",
        "  for var in tf.all_variables():\n",
        "    if 'adam_v' not in var.name and 'adam_m' not in var.name:\n",
        "      my_vars.append(var)\n",
        "  saver = tf.train.Saver(my_vars)\n",
        "  saver.save(sess, os.path.join(output_path, 'genreAnshajHorrorFiction.ckpt'))"
      ],
      "execution_count": null,
      "outputs": [
        {
          "output_type": "stream",
          "text": [
            "INFO:tensorflow:Restoring parameters from output/model.ckpt-15000\n",
            "WARNING:tensorflow:From <ipython-input-26-2f07068dfa5d>:11: all_variables (from tensorflow.python.ops.variables) is deprecated and will be removed after 2017-03-02.\n",
            "Instructions for updating:\n",
            "Please use tf.global_variables instead.\n"
          ],
          "name": "stdout"
        }
      ]
    },
    {
      "cell_type": "code",
      "metadata": {
        "id": "vdAxzF5J7fV4"
      },
      "source": [
        "!cp uncased_L-12_H-768_A-12/vocab.txt output/optimized_model"
      ],
      "execution_count": null,
      "outputs": []
    },
    {
      "cell_type": "code",
      "metadata": {
        "id": "BXLMLjGB7mdI"
      },
      "source": [
        "!mv output/ drive/MyDrive/UGRA/"
      ],
      "execution_count": null,
      "outputs": []
    },
    {
      "cell_type": "markdown",
      "metadata": {
        "id": "PrDYRAGbDnt5"
      },
      "source": [
        "#TFIDF corpus"
      ]
    },
    {
      "cell_type": "code",
      "metadata": {
        "id": "Ib_iGmywoJ2p"
      },
      "source": [
        "!gdown --id 1cgsexJtnY_0V-0xkoZLH98snE_adEfVk"
      ],
      "execution_count": null,
      "outputs": []
    },
    {
      "cell_type": "code",
      "metadata": {
        "id": "H4wQQaL8Dspj"
      },
      "source": [
        "import pandas as pd\n",
        "import re\n",
        "from nltk import word_tokenize\n",
        "from nltk.tokenize import sent_tokenize\n",
        "import nltk\n",
        "nltk.download('punkt')\n",
        "\n",
        "df = pd.read_csv('horror_fantasy.csv')\n",
        "df = df.drop('Unnamed: 0',axis=1)\n",
        "pattern = re.compile('[^\\w\\s]|(\\n)')\n",
        "df['Text'] = df['Text'].apply(lambda x: pattern.sub(\" \",x).lower().strip())\n",
        "df['Token_Text'] = df['Text'].apply(word_tokenize)\n",
        "df"
      ],
      "execution_count": null,
      "outputs": []
    },
    {
      "cell_type": "code",
      "metadata": {
        "id": "IgSOkbrs_wns"
      },
      "source": [
        "\n",
        "nltk.download('stopwords')\n",
        "from nltk.corpus import stopwords\n",
        "\n",
        "\n",
        "stWords = stopwords.words('english')\n",
        "df['StopWordLessTokens'] = df['Token_Text'].apply(lambda x: [i for i in x if i not in stWords])\n",
        "df['Word_Lenth'] = df.Token_Text.apply(lambda x: len(x))\n",
        "df['Top_5000'] = df['StopWordLessTokens'].apply(lambda x: x[:5000])\n",
        "df['Last_5000'] = df['StopWordLessTokens'].apply(lambda x: x[-5000:])\n",
        "df['Random_5000'] = df['StopWordLessTokens'].apply(lambda x: x[::max(len(x)//5000,1)])\n",
        "df.head()"
      ],
      "execution_count": null,
      "outputs": []
    },
    {
      "cell_type": "code",
      "metadata": {
        "id": "cVsjZoahOyvg"
      },
      "source": [
        "from sklearn.feature_extraction.text import TfidfVectorizer"
      ],
      "execution_count": null,
      "outputs": []
    },
    {
      "cell_type": "code",
      "metadata": {
        "colab": {
          "base_uri": "https://localhost:8080/"
        },
        "id": "vJieadVjO3sN",
        "outputId": "97ca77a2-11bf-4482-b040-76125d4b6ead"
      },
      "source": [
        "from collections import Counter\n",
        "allWords = [j for i in df.StopWordLessTokens for j in i]\n",
        "uniqueWords = Counter(allWords)\n",
        "len(uniqueWords)"
      ],
      "execution_count": null,
      "outputs": [
        {
          "output_type": "execute_result",
          "data": {
            "text/plain": [
              "86735"
            ]
          },
          "metadata": {
            "tags": []
          },
          "execution_count": 37
        }
      ]
    },
    {
      "cell_type": "code",
      "metadata": {
        "id": "RQhqqGnBP_H7"
      },
      "source": [
        "cdf = pd.DataFrame(uniqueWords,index=[0]).T"
      ],
      "execution_count": null,
      "outputs": []
    },
    {
      "cell_type": "code",
      "metadata": {
        "id": "dtjizC2VS6A5"
      },
      "source": [
        "cdf = cdf.reset_index()\n",
        "cdf.columns = ['Word','Count']\n",
        "cdf = cdf.sort_values('Count',ascending=False,axis=0)\n",
        "cdf"
      ],
      "execution_count": null,
      "outputs": []
    },
    {
      "cell_type": "code",
      "metadata": {
        "id": "fhIvTpNRrqAs"
      },
      "source": [
        "from sklearn.feature_extraction.text import CountVectorizer\n",
        "count_vect = CountVectorizer()\n",
        "X_train_counts = count_vect.fit_transform(df.Text)\n",
        "X_train_counts.shape"
      ],
      "execution_count": null,
      "outputs": []
    },
    {
      "cell_type": "code",
      "metadata": {
        "id": "C23X5_QguVv8"
      },
      "source": [
        "from sklearn.feature_extraction.text import TfidfTransformer\n",
        "tfidf_transformer = TfidfTransformer()\n",
        "X_train_tfidf = tfidf_transformer.fit_transform(X_train_counts)\n",
        "X_train_tfidf.shape"
      ],
      "execution_count": null,
      "outputs": []
    },
    {
      "cell_type": "markdown",
      "metadata": {
        "id": "WCTV8H89--CN"
      },
      "source": [
        "# ML Classification"
      ]
    },
    {
      "cell_type": "code",
      "metadata": {
        "id": "crBFicPD_qqx"
      },
      "source": [
        "df1=df.copy()\n",
        "df1.head()"
      ],
      "execution_count": null,
      "outputs": []
    },
    {
      "cell_type": "code",
      "metadata": {
        "id": "e51hFDnt_1u0"
      },
      "source": [
        "from sklearn.feature_extraction.text import TfidfVectorizer\n",
        "from sklearn import feature_extraction, model_selection, naive_bayes, pipeline, manifold, preprocessing\n",
        "from sklearn.metrics import accuracy_score\n",
        "from sklearn.metrics import confusion_matrix\n",
        "from sklearn.metrics import classification_report\n",
        "from sklearn.preprocessing import LabelEncoder"
      ],
      "execution_count": null,
      "outputs": []
    },
    {
      "cell_type": "markdown",
      "metadata": {
        "id": "Y4syzK1W_nSS"
      },
      "source": [
        "**Naive Bayes**"
      ]
    },
    {
      "cell_type": "code",
      "metadata": {
        "id": "MdtmxiQ_H24p"
      },
      "source": [
        "# Column=\"StopWordLessTokens\"\n",
        "# Column=\"Top_5000\"\n",
        "# Column=\"Last_5000\"\n",
        "Column=\"Random_5000\""
      ],
      "execution_count": null,
      "outputs": []
    },
    {
      "cell_type": "code",
      "metadata": {
        "colab": {
          "base_uri": "https://localhost:8080/"
        },
        "id": "vUNMWyibfl3R",
        "outputId": "e1615296-72bc-4160-d880-d1425e9c8142"
      },
      "source": [
        "print(\"Training\\n\",(df1[\"Genre\"].reset_index().groupby(\"Genre\").count()))\n",
        "print(\"\\nTesting\\n\",(df1[\"Genre\"].reset_index().groupby(\"Genre\").count()))"
      ],
      "execution_count": null,
      "outputs": [
        {
          "output_type": "stream",
          "text": [
            "Training\n",
            "          index\n",
            "Genre         \n",
            "Fiction    165\n",
            "Horror     127\n",
            "\n",
            "Testing\n",
            "          index\n",
            "Genre         \n",
            "Fiction    165\n",
            "Horror     127\n"
          ],
          "name": "stdout"
        }
      ]
    },
    {
      "cell_type": "code",
      "metadata": {
        "id": "IQEgx8L7XY04"
      },
      "source": [
        "df1=df.copy()\n",
        "# df1[Column] = df1[Column].astype('str')\n",
        "df1[Column] = df1[Column].apply(lambda x: \" \".join(x))\n",
        "Train_X, Test_X, Train_Y, Test_Y = model_selection.train_test_split(df1[Column],df1['Genre'],test_size=0.3,random_state=20)\n",
        "Encoder = LabelEncoder()\n",
        "# 0 Fiction\n",
        "# 1 Horror\n",
        "Train_Y = Encoder.fit_transform(Train_Y)\n",
        "Test_Y = Encoder.fit_transform(Test_Y)"
      ],
      "execution_count": null,
      "outputs": []
    },
    {
      "cell_type": "code",
      "metadata": {
        "id": "gD02f8nnFla4"
      },
      "source": [
        "Tfidf = TfidfVectorizer(max_features=100000)\n",
        "Tfidf.fit(df1[Column])\n",
        "Train_X_Tf = Tfidf.transform(Train_X)\n",
        "Test_X_Tf = Tfidf.transform(Test_X)"
      ],
      "execution_count": null,
      "outputs": []
    },
    {
      "cell_type": "code",
      "metadata": {
        "id": "YonEiFIPDCw_"
      },
      "source": [
        "Naive = naive_bayes.MultinomialNB()\n",
        "Naive.fit(Train_X_Tf,Train_Y)\n",
        "pred_nb = Naive.predict(Test_X_Tf)"
      ],
      "execution_count": null,
      "outputs": []
    },
    {
      "cell_type": "code",
      "metadata": {
        "colab": {
          "base_uri": "https://localhost:8080/"
        },
        "id": "IsP7Pe3xj4Ut",
        "outputId": "d319b939-f5f6-4682-d9ec-91222df37cd0"
      },
      "source": [
        "kk = ['Fiction','Horror']\n",
        "test_k = Tfidf.transform(kk)\n",
        "pred_nb = Naive.predict(test_k)\n",
        "pred_nb"
      ],
      "execution_count": null,
      "outputs": [
        {
          "output_type": "execute_result",
          "data": {
            "text/plain": [
              "array([0, 1])"
            ]
          },
          "metadata": {
            "tags": []
          },
          "execution_count": 84
        }
      ]
    },
    {
      "cell_type": "code",
      "metadata": {
        "colab": {
          "base_uri": "https://localhost:8080/"
        },
        "id": "P5ijHZbj4e6G",
        "outputId": "0abd5760-4b90-4c4e-95b6-a620b32a0760"
      },
      "source": [
        "print(\"NB Accuracy=\",accuracy_score(pred_nb, Test_Y)*100)\n",
        "print(\"Confusion Matrix \\n\",confusion_matrix(pred_nb, Test_Y))\n",
        "print(classification_report(Test_Y, pred_nb))\n"
      ],
      "execution_count": null,
      "outputs": [
        {
          "output_type": "stream",
          "text": [
            "NB Accuracy= 81.81818181818183\n",
            "Confusion Matrix \n",
            " [[48 10]\n",
            " [ 6 24]]\n",
            "              precision    recall  f1-score   support\n",
            "\n",
            "           0       0.83      0.89      0.86        54\n",
            "           1       0.80      0.71      0.75        34\n",
            "\n",
            "    accuracy                           0.82        88\n",
            "   macro avg       0.81      0.80      0.80        88\n",
            "weighted avg       0.82      0.82      0.82        88\n",
            "\n"
          ],
          "name": "stdout"
        }
      ]
    },
    {
      "cell_type": "markdown",
      "metadata": {
        "id": "9noRvKK_7WPV"
      },
      "source": [
        "**SVM**"
      ]
    },
    {
      "cell_type": "code",
      "metadata": {
        "id": "_9tme0iI7Uya"
      },
      "source": [
        "SVM = svm.SVC(C=2.0, kernel='linear', degree=3, gamma='auto')\n",
        "\n",
        "SVM.fit(Train_X_Tf,Train_Y)\n",
        "pred_svm = SVM.predict(Test_X_Tf)"
      ],
      "execution_count": null,
      "outputs": []
    },
    {
      "cell_type": "code",
      "metadata": {
        "colab": {
          "base_uri": "https://localhost:8080/"
        },
        "id": "Vi9GLvqr7iFK",
        "outputId": "fa8b0aef-3ad7-4686-b478-0b05c00024b5"
      },
      "source": [
        "print(\"SVM Accuracy =\",accuracy_score(pred_svm, Test_Y)*100)\n",
        "print(\"Confusion Matrix \\n\",confusion_matrix(pred_svm, Test_Y))\n",
        "print(classification_report(Test_Y, pred_svm))\n"
      ],
      "execution_count": null,
      "outputs": [
        {
          "output_type": "stream",
          "text": [
            "SVM Accuracy = 85.22727272727273\n",
            "Confusion Matrix \n",
            " [[48  7]\n",
            " [ 6 27]]\n",
            "              precision    recall  f1-score   support\n",
            "\n",
            "           0       0.87      0.89      0.88        54\n",
            "           1       0.82      0.79      0.81        34\n",
            "\n",
            "    accuracy                           0.85        88\n",
            "   macro avg       0.85      0.84      0.84        88\n",
            "weighted avg       0.85      0.85      0.85        88\n",
            "\n"
          ],
          "name": "stdout"
        }
      ]
    },
    {
      "cell_type": "markdown",
      "metadata": {
        "id": "GytAUt5IU0bR"
      },
      "source": [
        "#Text edit"
      ]
    },
    {
      "cell_type": "code",
      "metadata": {
        "id": "YENiWBasU3LW"
      },
      "source": [
        "df = pd.read_csv('horror_fantasy.csv')\n",
        "df = df.drop('Unnamed: 0',axis=1)\n",
        "df['Sent_Tokenize'] = df['Text'].apply(sent_tokenize)\n",
        "df['Sent_Tokens_Lenth'] = df['Sent_Tokenize'].apply(lambda x: len(x))\n",
        "df1 = df[['Sent_Tokenize','Genre']]\n",
        "df"
      ],
      "execution_count": null,
      "outputs": []
    },
    {
      "cell_type": "code",
      "metadata": {
        "colab": {
          "base_uri": "https://localhost:8080/",
          "height": 35
        },
        "id": "C9X_81ZQiAEz",
        "outputId": "6dbb5797-c2b1-40a8-e6ce-23dfe87e3ae2"
      },
      "source": [
        "df1.Sent_Tokenize[1]"
      ],
      "execution_count": null,
      "outputs": [
        {
          "output_type": "execute_result",
          "data": {
            "application/vnd.google.colaboratory.intrinsic+json": {
              "type": "string"
            },
            "text/plain": [
              "'STERNE--Tristram Shandy, ch.'"
            ]
          },
          "metadata": {
            "tags": []
          },
          "execution_count": 16
        }
      ]
    },
    {
      "cell_type": "code",
      "metadata": {
        "colab": {
          "base_uri": "https://localhost:8080/",
          "height": 419
        },
        "id": "33fsMrcDf5gN",
        "outputId": "f414749c-3680-428f-bf23-ef6f47473ea0"
      },
      "source": [
        "import string\n",
        "df1 = df1.explode('Sent_Tokenize',ignore_index=True)\n",
        "pat = {10:None,32: ' ', 33: ' ', 34: ' ', 35: ' ', 36: ' ', 37: ' ', 38: ' ', 39: ' ', 40: ' ', 41: ' ', 42: ' ', 43: ' ', 44: ' ', 45: ' ', 46: ' ', 47: ' ', 58: ' ', 59: ' ', 60: ' ', 61: ' ', 62: ' ', 63: ' ', 64: ' ', 91: ' ', 92: ' ', 93: ' ', 94: ' ', 95: ' ', 96: ' ', 123: ' ', 124: ' ', 125: ' ', 126: ' '}\n",
        "# df1.Sent_Tokenize = df1.Sent_Tokenize.str.translate(str.maketrans(' ', ' ', string.punctuation))\n",
        "df1.Sent_Tokenize = df1.Sent_Tokenize.apply(lambda x: str(x).translate(pat).strip())\n",
        "df1['Sent_Tokenize'] = df1['Sent_Tokenize'].apply(word_tokenize)\n",
        "df1"
      ],
      "execution_count": null,
      "outputs": [
        {
          "output_type": "execute_result",
          "data": {
            "text/html": [
              "<div>\n",
              "<style scoped>\n",
              "    .dataframe tbody tr th:only-of-type {\n",
              "        vertical-align: middle;\n",
              "    }\n",
              "\n",
              "    .dataframe tbody tr th {\n",
              "        vertical-align: top;\n",
              "    }\n",
              "\n",
              "    .dataframe thead th {\n",
              "        text-align: right;\n",
              "    }\n",
              "</style>\n",
              "<table border=\"1\" class=\"dataframe\">\n",
              "  <thead>\n",
              "    <tr style=\"text-align: right;\">\n",
              "      <th></th>\n",
              "      <th>Sent_Tokenize</th>\n",
              "      <th>Genre</th>\n",
              "    </tr>\n",
              "  </thead>\n",
              "  <tbody>\n",
              "    <tr>\n",
              "      <th>0</th>\n",
              "      <td>[To, Monsieur, Savary, Member, of, Le, Academi...</td>\n",
              "      <td>Fiction</td>\n",
              "    </tr>\n",
              "    <tr>\n",
              "      <th>1</th>\n",
              "      <td>[STERNE, Tristram, Shandy, ch]</td>\n",
              "      <td>Fiction</td>\n",
              "    </tr>\n",
              "    <tr>\n",
              "      <th>2</th>\n",
              "      <td>[cccxxii]</td>\n",
              "      <td>Fiction</td>\n",
              "    </tr>\n",
              "    <tr>\n",
              "      <th>3</th>\n",
              "      <td>[Towards, the, end, of, the, month, of, Octobe...</td>\n",
              "      <td>Fiction</td>\n",
              "    </tr>\n",
              "    <tr>\n",
              "      <th>4</th>\n",
              "      <td>[He, mountedthe, staircase, of, one, of, the, ...</td>\n",
              "      <td>Fiction</td>\n",
              "    </tr>\n",
              "    <tr>\n",
              "      <th>...</th>\n",
              "      <td>...</td>\n",
              "      <td>...</td>\n",
              "    </tr>\n",
              "    <tr>\n",
              "      <th>750777</th>\n",
              "      <td>[They, don, t, come, to, me, he, said, softly,...</td>\n",
              "      <td>Horror</td>\n",
              "    </tr>\n",
              "    <tr>\n",
              "      <th>750778</th>\n",
              "      <td>[It, s, that, old, medieval, Craik, with, afac...</td>\n",
              "      <td>Horror</td>\n",
              "    </tr>\n",
              "    <tr>\n",
              "      <th>750779</th>\n",
              "      <td>[And, again, he, sat, with, head, a, littlesid...</td>\n",
              "      <td>Horror</td>\n",
              "    </tr>\n",
              "    <tr>\n",
              "      <th>750780</th>\n",
              "      <td>[A, cloud, as, it, were, of, youth, drew, over...</td>\n",
              "      <td>Horror</td>\n",
              "    </tr>\n",
              "    <tr>\n",
              "      <th>750781</th>\n",
              "      <td>[Once, like, Lawford, in, the, darknessat, Wid...</td>\n",
              "      <td>Horror</td>\n",
              "    </tr>\n",
              "  </tbody>\n",
              "</table>\n",
              "<p>750782 rows × 2 columns</p>\n",
              "</div>"
            ],
            "text/plain": [
              "                                            Sent_Tokenize    Genre\n",
              "0       [To, Monsieur, Savary, Member, of, Le, Academi...  Fiction\n",
              "1                          [STERNE, Tristram, Shandy, ch]  Fiction\n",
              "2                                               [cccxxii]  Fiction\n",
              "3       [Towards, the, end, of, the, month, of, Octobe...  Fiction\n",
              "4       [He, mountedthe, staircase, of, one, of, the, ...  Fiction\n",
              "...                                                   ...      ...\n",
              "750777  [They, don, t, come, to, me, he, said, softly,...   Horror\n",
              "750778  [It, s, that, old, medieval, Craik, with, afac...   Horror\n",
              "750779  [And, again, he, sat, with, head, a, littlesid...   Horror\n",
              "750780  [A, cloud, as, it, were, of, youth, drew, over...   Horror\n",
              "750781  [Once, like, Lawford, in, the, darknessat, Wid...   Horror\n",
              "\n",
              "[750782 rows x 2 columns]"
            ]
          },
          "metadata": {
            "tags": []
          },
          "execution_count": 17
        }
      ]
    },
    {
      "cell_type": "code",
      "metadata": {
        "id": "r9GpgeXJXQWe",
        "colab": {
          "base_uri": "https://localhost:8080/",
          "height": 419
        },
        "outputId": "f639deba-0f20-43fb-941b-dbea8195a4c6"
      },
      "source": [
        "df2 = df1.copy()\n",
        "pattern = re.compile('[^\\w\\s]|(\\n)')\n",
        "df2['Sent_Tokenize'] = df2['Sent_Tokenize'].apply(lambda y: [pattern.sub(\" \",x).lower().strip() for x in y])\n",
        "# nltk.download('stopwords')\n",
        "from nltk.corpus import stopwords\n",
        "stWords = stopwords.words('english')\n",
        "df2['Sent_Tokenize'] = df2['Sent_Tokenize'].apply(lambda x: \" \".join([i for i in x if i not in stWords]))\n",
        "df2['Sent_Tokenize'] = df2['Sent_Tokenize'].apply(lambda x: re.sub('\\d+','',x))\n",
        "df2"
      ],
      "execution_count": null,
      "outputs": [
        {
          "output_type": "execute_result",
          "data": {
            "text/html": [
              "<div>\n",
              "<style scoped>\n",
              "    .dataframe tbody tr th:only-of-type {\n",
              "        vertical-align: middle;\n",
              "    }\n",
              "\n",
              "    .dataframe tbody tr th {\n",
              "        vertical-align: top;\n",
              "    }\n",
              "\n",
              "    .dataframe thead th {\n",
              "        text-align: right;\n",
              "    }\n",
              "</style>\n",
              "<table border=\"1\" class=\"dataframe\">\n",
              "  <thead>\n",
              "    <tr style=\"text-align: right;\">\n",
              "      <th></th>\n",
              "      <th>Sent_Tokenize</th>\n",
              "      <th>Genre</th>\n",
              "    </tr>\n",
              "  </thead>\n",
              "  <tbody>\n",
              "    <tr>\n",
              "      <th>0</th>\n",
              "      <td>monsieur savary member le academie des sciences</td>\n",
              "      <td>Fiction</td>\n",
              "    </tr>\n",
              "    <tr>\n",
              "      <th>1</th>\n",
              "      <td>sterne tristram shandy ch</td>\n",
              "      <td>Fiction</td>\n",
              "    </tr>\n",
              "    <tr>\n",
              "      <th>2</th>\n",
              "      <td>cccxxii</td>\n",
              "      <td>Fiction</td>\n",
              "    </tr>\n",
              "    <tr>\n",
              "      <th>3</th>\n",
              "      <td>towards end month october 1829 young man enter...</td>\n",
              "      <td>Fiction</td>\n",
              "    </tr>\n",
              "    <tr>\n",
              "      <th>4</th>\n",
              "      <td>mountedthe staircase one gambling hells distin...</td>\n",
              "      <td>Fiction</td>\n",
              "    </tr>\n",
              "    <tr>\n",
              "      <th>...</th>\n",
              "      <td>...</td>\n",
              "      <td>...</td>\n",
              "    </tr>\n",
              "    <tr>\n",
              "      <th>750777</th>\n",
              "      <td>come said softly atiny smile old face</td>\n",
              "      <td>Horror</td>\n",
              "    </tr>\n",
              "    <tr>\n",
              "      <th>750778</th>\n",
              "      <td>old medieval craik aface like last year rookery</td>\n",
              "      <td>Horror</td>\n",
              "    </tr>\n",
              "    <tr>\n",
              "      <th>750779</th>\n",
              "      <td>sat head littlesidelong listening infinitesima...</td>\n",
              "      <td>Horror</td>\n",
              "    </tr>\n",
              "    <tr>\n",
              "      <th>750780</th>\n",
              "      <td>cloud youth drew wrinkled skin composed thebir...</td>\n",
              "      <td>Horror</td>\n",
              "    </tr>\n",
              "    <tr>\n",
              "      <th>750781</th>\n",
              "      <td>like lawford darknessat widderstone glanced sh...</td>\n",
              "      <td>Horror</td>\n",
              "    </tr>\n",
              "  </tbody>\n",
              "</table>\n",
              "<p>750782 rows × 2 columns</p>\n",
              "</div>"
            ],
            "text/plain": [
              "                                            Sent_Tokenize    Genre\n",
              "0         monsieur savary member le academie des sciences  Fiction\n",
              "1                               sterne tristram shandy ch  Fiction\n",
              "2                                                 cccxxii  Fiction\n",
              "3       towards end month october 1829 young man enter...  Fiction\n",
              "4       mountedthe staircase one gambling hells distin...  Fiction\n",
              "...                                                   ...      ...\n",
              "750777              come said softly atiny smile old face   Horror\n",
              "750778    old medieval craik aface like last year rookery   Horror\n",
              "750779  sat head littlesidelong listening infinitesima...   Horror\n",
              "750780  cloud youth drew wrinkled skin composed thebir...   Horror\n",
              "750781  like lawford darknessat widderstone glanced sh...   Horror\n",
              "\n",
              "[750782 rows x 2 columns]"
            ]
          },
          "metadata": {
            "tags": []
          },
          "execution_count": 19
        }
      ]
    },
    {
      "cell_type": "code",
      "metadata": {
        "id": "iCo8nyK8wtdc"
      },
      "source": [
        "df2.to_csv('teemp.csv')"
      ],
      "execution_count": null,
      "outputs": []
    },
    {
      "cell_type": "code",
      "metadata": {
        "colab": {
          "base_uri": "https://localhost:8080/",
          "height": 419
        },
        "id": "ef-jO2ztsvM0",
        "outputId": "2c84f306-2adc-4a00-d889-735eab9a4d04"
      },
      "source": [
        "import pandas as pd\n",
        "df = pd.read_csv('teemp.csv')\n",
        "df.columns = ['useless','text','label']\n",
        "df"
      ],
      "execution_count": null,
      "outputs": [
        {
          "output_type": "execute_result",
          "data": {
            "text/html": [
              "<div>\n",
              "<style scoped>\n",
              "    .dataframe tbody tr th:only-of-type {\n",
              "        vertical-align: middle;\n",
              "    }\n",
              "\n",
              "    .dataframe tbody tr th {\n",
              "        vertical-align: top;\n",
              "    }\n",
              "\n",
              "    .dataframe thead th {\n",
              "        text-align: right;\n",
              "    }\n",
              "</style>\n",
              "<table border=\"1\" class=\"dataframe\">\n",
              "  <thead>\n",
              "    <tr style=\"text-align: right;\">\n",
              "      <th></th>\n",
              "      <th>useless</th>\n",
              "      <th>text</th>\n",
              "      <th>label</th>\n",
              "    </tr>\n",
              "  </thead>\n",
              "  <tbody>\n",
              "    <tr>\n",
              "      <th>0</th>\n",
              "      <td>0</td>\n",
              "      <td>monsieur savary member le academie des sciences</td>\n",
              "      <td>Fiction</td>\n",
              "    </tr>\n",
              "    <tr>\n",
              "      <th>1</th>\n",
              "      <td>1</td>\n",
              "      <td>sterne tristram shandy ch</td>\n",
              "      <td>Fiction</td>\n",
              "    </tr>\n",
              "    <tr>\n",
              "      <th>2</th>\n",
              "      <td>2</td>\n",
              "      <td>cccxxii</td>\n",
              "      <td>Fiction</td>\n",
              "    </tr>\n",
              "    <tr>\n",
              "      <th>3</th>\n",
              "      <td>3</td>\n",
              "      <td>towards end month october  young man entered t...</td>\n",
              "      <td>Fiction</td>\n",
              "    </tr>\n",
              "    <tr>\n",
              "      <th>4</th>\n",
              "      <td>4</td>\n",
              "      <td>mountedthe staircase one gambling hells distin...</td>\n",
              "      <td>Fiction</td>\n",
              "    </tr>\n",
              "    <tr>\n",
              "      <th>...</th>\n",
              "      <td>...</td>\n",
              "      <td>...</td>\n",
              "      <td>...</td>\n",
              "    </tr>\n",
              "    <tr>\n",
              "      <th>750777</th>\n",
              "      <td>750777</td>\n",
              "      <td>come said softly atiny smile old face</td>\n",
              "      <td>Horror</td>\n",
              "    </tr>\n",
              "    <tr>\n",
              "      <th>750778</th>\n",
              "      <td>750778</td>\n",
              "      <td>old medieval craik aface like last year rookery</td>\n",
              "      <td>Horror</td>\n",
              "    </tr>\n",
              "    <tr>\n",
              "      <th>750779</th>\n",
              "      <td>750779</td>\n",
              "      <td>sat head littlesidelong listening infinitesima...</td>\n",
              "      <td>Horror</td>\n",
              "    </tr>\n",
              "    <tr>\n",
              "      <th>750780</th>\n",
              "      <td>750780</td>\n",
              "      <td>cloud youth drew wrinkled skin composed thebir...</td>\n",
              "      <td>Horror</td>\n",
              "    </tr>\n",
              "    <tr>\n",
              "      <th>750781</th>\n",
              "      <td>750781</td>\n",
              "      <td>like lawford darknessat widderstone glanced sh...</td>\n",
              "      <td>Horror</td>\n",
              "    </tr>\n",
              "  </tbody>\n",
              "</table>\n",
              "<p>750782 rows × 3 columns</p>\n",
              "</div>"
            ],
            "text/plain": [
              "        useless                                               text    label\n",
              "0             0    monsieur savary member le academie des sciences  Fiction\n",
              "1             1                          sterne tristram shandy ch  Fiction\n",
              "2             2                                            cccxxii  Fiction\n",
              "3             3  towards end month october  young man entered t...  Fiction\n",
              "4             4  mountedthe staircase one gambling hells distin...  Fiction\n",
              "...         ...                                                ...      ...\n",
              "750777   750777              come said softly atiny smile old face   Horror\n",
              "750778   750778    old medieval craik aface like last year rookery   Horror\n",
              "750779   750779  sat head littlesidelong listening infinitesima...   Horror\n",
              "750780   750780  cloud youth drew wrinkled skin composed thebir...   Horror\n",
              "750781   750781  like lawford darknessat widderstone glanced sh...   Horror\n",
              "\n",
              "[750782 rows x 3 columns]"
            ]
          },
          "metadata": {
            "tags": []
          },
          "execution_count": 23
        }
      ]
    },
    {
      "cell_type": "code",
      "metadata": {
        "id": "1kEv4Bv1rDfQ"
      },
      "source": [
        "# df = df.drop(df[df.text.isnull()].index,axis=0)\n",
        "df['text'] = df['text'].replace({\"Fiction\":0,\"Horror\":1})"
      ],
      "execution_count": null,
      "outputs": []
    },
    {
      "cell_type": "markdown",
      "metadata": {
        "id": "F7vY1zIahfjF"
      },
      "source": [
        "# LSTM"
      ]
    },
    {
      "cell_type": "code",
      "metadata": {
        "id": "yuPziB22nTTY",
        "colab": {
          "base_uri": "https://localhost:8080/",
          "height": 17
        },
        "outputId": "e6586743-5fb7-4330-e09c-7d4898cee87b"
      },
      "source": [
        "import numpy as np \n",
        "import pandas as pd\n",
        "import matplotlib.pyplot as plt\n",
        "import seaborn as sns\n",
        "from keras.preprocessing.text import Tokenizer\n",
        "from keras.preprocessing.sequence import pad_sequences\n",
        "from keras.models import Sequential\n",
        "from keras.layers import Dense, Embedding, LSTM, SpatialDropout1D\n",
        "from sklearn.model_selection import train_test_split\n",
        "from keras.utils.np_utils import to_categorical\n",
        "from keras.callbacks import EarlyStopping\n",
        "from keras.layers import Dropout\n",
        "import re\n",
        "from nltk.corpus import stopwords\n",
        "from nltk import word_tokenize\n",
        "STOPWORDS = set(stopwords.words('english'))\n",
        "from bs4 import BeautifulSoup\n",
        "import plotly.graph_objs as go\n",
        "import cufflinks\n",
        "from IPython.core.interactiveshell import InteractiveShell\n",
        "import plotly.figure_factory as ff\n",
        "InteractiveShell.ast_node_interactivity = 'all'\n",
        "from plotly.offline import iplot\n",
        "cufflinks.go_offline()\n",
        "cufflinks.set_config_file(world_readable=True, theme='pearl')"
      ],
      "execution_count": null,
      "outputs": [
        {
          "output_type": "display_data",
          "data": {
            "text/html": [
              "        <script type=\"text/javascript\">\n",
              "        window.PlotlyConfig = {MathJaxConfig: 'local'};\n",
              "        if (window.MathJax) {MathJax.Hub.Config({SVG: {font: \"STIX-Web\"}});}\n",
              "        if (typeof require !== 'undefined') {\n",
              "        require.undef(\"plotly\");\n",
              "        requirejs.config({\n",
              "            paths: {\n",
              "                'plotly': ['https://cdn.plot.ly/plotly-latest.min']\n",
              "            }\n",
              "        });\n",
              "        require(['plotly'], function(Plotly) {\n",
              "            window._Plotly = Plotly;\n",
              "        });\n",
              "        }\n",
              "        </script>\n",
              "        "
            ]
          },
          "metadata": {
            "tags": []
          }
        }
      ]
    },
    {
      "cell_type": "code",
      "metadata": {
        "colab": {
          "base_uri": "https://localhost:8080/"
        },
        "id": "XshCQ7cumazo",
        "outputId": "20fb0c57-25a6-4c3b-deb7-db254246f802"
      },
      "source": [
        "# The maximum number of words to be used. (most frequent)\n",
        "MAX_NB_WORDS = 50000\n",
        "# Max number of words in each complaint.\n",
        "MAX_SEQUENCE_LENGTH = 250\n",
        "# This is fixed.\n",
        "EMBEDDING_DIM = 100\n",
        "\n",
        "tokenizer = Tokenizer(num_words=MAX_NB_WORDS, filters='!\"#$%&()*+,-./:;<=>?@[\\]^_`{|}~', lower=True)\n",
        "tokenizer.fit_on_texts(df['text'].values)\n",
        "word_index = tokenizer.word_index\n",
        "print('Found %s unique tokens.' % len(word_index))"
      ],
      "execution_count": null,
      "outputs": [
        {
          "output_type": "stream",
          "text": [
            "Found 398727 unique tokens.\n"
          ],
          "name": "stdout"
        }
      ]
    },
    {
      "cell_type": "code",
      "metadata": {
        "colab": {
          "base_uri": "https://localhost:8080/"
        },
        "id": "xxMAR1Y7r6-Q",
        "outputId": "7914db7d-90f8-4f4e-8268-0dd24db48e93"
      },
      "source": [
        "X = tokenizer.texts_to_sequences(df['text'].values)\n",
        "X = pad_sequences(X, maxlen=MAX_SEQUENCE_LENGTH)\n",
        "print('Shape of data tensor:', X.shape)"
      ],
      "execution_count": null,
      "outputs": [
        {
          "output_type": "stream",
          "text": [
            "Shape of data tensor: (740444, 250)\n"
          ],
          "name": "stdout"
        }
      ]
    },
    {
      "cell_type": "code",
      "metadata": {
        "colab": {
          "base_uri": "https://localhost:8080/"
        },
        "id": "xx92EUVIsC-P",
        "outputId": "2767b187-44b6-47b3-a998-201872d7b1e6"
      },
      "source": [
        "Y = pd.get_dummies(df['label']).values\n",
        "print('Shape of label tensor:', Y.shape)"
      ],
      "execution_count": null,
      "outputs": [
        {
          "output_type": "stream",
          "text": [
            "Shape of label tensor: (740444, 2)\n"
          ],
          "name": "stdout"
        }
      ]
    },
    {
      "cell_type": "code",
      "metadata": {
        "colab": {
          "base_uri": "https://localhost:8080/"
        },
        "id": "ypDs34WssIr3",
        "outputId": "fe974759-e988-4360-95e8-f3735ddc846f"
      },
      "source": [
        "X_train, X_test, Y_train, Y_test = train_test_split(X,Y, test_size = 0.10, random_state = 42)\n",
        "print(X_train.shape,Y_train.shape)\n",
        "print(X_test.shape,Y_test.shape)"
      ],
      "execution_count": null,
      "outputs": [
        {
          "output_type": "stream",
          "text": [
            "(666399, 250) (666399, 2)\n",
            "(74045, 250) (74045, 2)\n"
          ],
          "name": "stdout"
        }
      ]
    },
    {
      "cell_type": "code",
      "metadata": {
        "colab": {
          "base_uri": "https://localhost:8080/"
        },
        "id": "_OnHOXNgsM4I",
        "outputId": "e27bab9c-6001-42f1-f249-ecea9a6b9fe2"
      },
      "source": [
        "model = Sequential()\n",
        "model.add(Embedding(MAX_NB_WORDS, EMBEDDING_DIM, input_length=X.shape[1]))\n",
        "model.add(SpatialDropout1D(0.2))\n",
        "model.add(LSTM(100, dropout=0.2, recurrent_dropout=0.2))\n",
        "model.add(Dense(2, activation='sigmoid'))\n",
        "model.compile(loss='binary_crossentropy', optimizer='adam', metrics=['accuracy'])\n",
        "print(model.summary())"
      ],
      "execution_count": null,
      "outputs": [
        {
          "output_type": "stream",
          "text": [
            "Model: \"sequential_9\"\n",
            "_________________________________________________________________\n",
            "Layer (type)                 Output Shape              Param #   \n",
            "=================================================================\n",
            "embedding_9 (Embedding)      (None, 250, 100)          5000000   \n",
            "_________________________________________________________________\n",
            "spatial_dropout1d_9 (Spatial (None, 250, 100)          0         \n",
            "_________________________________________________________________\n",
            "lstm_9 (LSTM)                (None, 100)               80400     \n",
            "_________________________________________________________________\n",
            "dense_9 (Dense)              (None, 2)                 202       \n",
            "=================================================================\n",
            "Total params: 5,080,602\n",
            "Trainable params: 5,080,602\n",
            "Non-trainable params: 0\n",
            "_________________________________________________________________\n",
            "None\n"
          ],
          "name": "stdout"
        }
      ]
    },
    {
      "cell_type": "code",
      "metadata": {
        "id": "TRjPg7ODsVZg"
      },
      "source": [
        "epochs = 5\n",
        "batch_size = 64\n",
        "\n",
        "history = model.fit(X_train, Y_train, epochs=epochs, batch_size=batch_size,validation_split=0.1,callbacks=[EarlyStopping(monitor='val_loss', patience=3, min_delta=0.0001)])"
      ],
      "execution_count": null,
      "outputs": []
    },
    {
      "cell_type": "code",
      "metadata": {
        "id": "i8n1tiWoAzrU"
      },
      "source": [
        "df.to_csv('finalSentHorrorFiction.csv')"
      ],
      "execution_count": null,
      "outputs": []
    },
    {
      "cell_type": "code",
      "metadata": {
        "id": "tmVdETKpA9jQ"
      },
      "source": [
        "!mv finalSentHorrorFiction.csv drive/MyDrive/UGRA/"
      ],
      "execution_count": null,
      "outputs": []
    },
    {
      "cell_type": "markdown",
      "metadata": {
        "id": "NHXfGdSAC4D2"
      },
      "source": [
        "#CNN"
      ]
    },
    {
      "cell_type": "code",
      "metadata": {
        "id": "GZwmRWdYDsxz",
        "colab": {
          "base_uri": "https://localhost:8080/"
        },
        "outputId": "134e3832-642a-46ae-ae4c-c2164a4f2b4b"
      },
      "source": [
        "!gdown --id 1wuP2YtihE7HyiBeOykZoB3Ftch7fHbcR"
      ],
      "execution_count": null,
      "outputs": [
        {
          "output_type": "stream",
          "text": [
            "Downloading...\n",
            "From: https://drive.google.com/uc?id=1wuP2YtihE7HyiBeOykZoB3Ftch7fHbcR\n",
            "To: /content/finalSentHorrorFiction.csv\n",
            "68.7MB [00:00, 99.7MB/s]\n"
          ],
          "name": "stdout"
        }
      ]
    },
    {
      "cell_type": "code",
      "metadata": {
        "id": "Evqua29NC6IT"
      },
      "source": [
        "from keras.datasets import imdb\n",
        "from keras.models import Sequential\n",
        "from keras.layers import Dense\n",
        "from keras.layers import Flatten\n",
        "from keras.layers.convolutional import Conv1D\n",
        "from keras.layers.convolutional import MaxPooling1D\n",
        "from keras.layers.embeddings import Embedding\n",
        "from keras.preprocessing import sequence\n",
        "import pandas as pd"
      ],
      "execution_count": null,
      "outputs": []
    },
    {
      "cell_type": "code",
      "metadata": {
        "id": "s2VEG-5fDaQk",
        "colab": {
          "base_uri": "https://localhost:8080/",
          "height": 419
        },
        "outputId": "eebdc1dd-e088-402b-d989-5c1ac3923b8e"
      },
      "source": [
        "df = pd.read_csv('finalSentHorrorFiction.csv')\n",
        "df = df.drop(['Unnamed: 0','useless'],axis=1)\n",
        "df"
      ],
      "execution_count": null,
      "outputs": [
        {
          "output_type": "execute_result",
          "data": {
            "text/html": [
              "<div>\n",
              "<style scoped>\n",
              "    .dataframe tbody tr th:only-of-type {\n",
              "        vertical-align: middle;\n",
              "    }\n",
              "\n",
              "    .dataframe tbody tr th {\n",
              "        vertical-align: top;\n",
              "    }\n",
              "\n",
              "    .dataframe thead th {\n",
              "        text-align: right;\n",
              "    }\n",
              "</style>\n",
              "<table border=\"1\" class=\"dataframe\">\n",
              "  <thead>\n",
              "    <tr style=\"text-align: right;\">\n",
              "      <th></th>\n",
              "      <th>text</th>\n",
              "      <th>label</th>\n",
              "    </tr>\n",
              "  </thead>\n",
              "  <tbody>\n",
              "    <tr>\n",
              "      <th>0</th>\n",
              "      <td>monsieur savary member le academie des sciences</td>\n",
              "      <td>Fiction</td>\n",
              "    </tr>\n",
              "    <tr>\n",
              "      <th>1</th>\n",
              "      <td>sterne tristram shandy ch</td>\n",
              "      <td>Fiction</td>\n",
              "    </tr>\n",
              "    <tr>\n",
              "      <th>2</th>\n",
              "      <td>cccxxii</td>\n",
              "      <td>Fiction</td>\n",
              "    </tr>\n",
              "    <tr>\n",
              "      <th>3</th>\n",
              "      <td>towards end month october  young man entered t...</td>\n",
              "      <td>Fiction</td>\n",
              "    </tr>\n",
              "    <tr>\n",
              "      <th>4</th>\n",
              "      <td>mountedthe staircase one gambling hells distin...</td>\n",
              "      <td>Fiction</td>\n",
              "    </tr>\n",
              "    <tr>\n",
              "      <th>...</th>\n",
              "      <td>...</td>\n",
              "      <td>...</td>\n",
              "    </tr>\n",
              "    <tr>\n",
              "      <th>740439</th>\n",
              "      <td>come said softly atiny smile old face</td>\n",
              "      <td>Horror</td>\n",
              "    </tr>\n",
              "    <tr>\n",
              "      <th>740440</th>\n",
              "      <td>old medieval craik aface like last year rookery</td>\n",
              "      <td>Horror</td>\n",
              "    </tr>\n",
              "    <tr>\n",
              "      <th>740441</th>\n",
              "      <td>sat head littlesidelong listening infinitesima...</td>\n",
              "      <td>Horror</td>\n",
              "    </tr>\n",
              "    <tr>\n",
              "      <th>740442</th>\n",
              "      <td>cloud youth drew wrinkled skin composed thebir...</td>\n",
              "      <td>Horror</td>\n",
              "    </tr>\n",
              "    <tr>\n",
              "      <th>740443</th>\n",
              "      <td>like lawford darknessat widderstone glanced sh...</td>\n",
              "      <td>Horror</td>\n",
              "    </tr>\n",
              "  </tbody>\n",
              "</table>\n",
              "<p>740444 rows × 2 columns</p>\n",
              "</div>"
            ],
            "text/plain": [
              "                                                     text    label\n",
              "0         monsieur savary member le academie des sciences  Fiction\n",
              "1                               sterne tristram shandy ch  Fiction\n",
              "2                                                 cccxxii  Fiction\n",
              "3       towards end month october  young man entered t...  Fiction\n",
              "4       mountedthe staircase one gambling hells distin...  Fiction\n",
              "...                                                   ...      ...\n",
              "740439              come said softly atiny smile old face   Horror\n",
              "740440    old medieval craik aface like last year rookery   Horror\n",
              "740441  sat head littlesidelong listening infinitesima...   Horror\n",
              "740442  cloud youth drew wrinkled skin composed thebir...   Horror\n",
              "740443  like lawford darknessat widderstone glanced sh...   Horror\n",
              "\n",
              "[740444 rows x 2 columns]"
            ]
          },
          "metadata": {
            "tags": []
          },
          "execution_count": 3
        }
      ]
    },
    {
      "cell_type": "code",
      "metadata": {
        "id": "e7imI4GiDNKy"
      },
      "source": [
        "# Our dictionary will contain only of the top 7000 words appearing most frequently\n",
        "# top_words = 7000\n",
        "# Now we split our data-set into training and test data\n",
        "# (X_train, y_train), (X_test, y_test) = imdb.load_data(num_words=top_words)\n",
        "# Looking at the nature of training data\n",
        "# print(X_train[0])\n",
        "# print(y_train[0])\n",
        "# print('Shape of training data: ')\n",
        "# print(X_train.shape)\n",
        "# print(y_train.shape)\n",
        "# print('Shape of test data: ')\n",
        "# print(X_test.shape)\n",
        "# print(y_test.shape)"
      ],
      "execution_count": null,
      "outputs": []
    },
    {
      "cell_type": "code",
      "metadata": {
        "id": "y23KGbtOFCMO"
      },
      "source": [
        "model = Sequential()\n",
        "# Adding the embedding layer which will take in maximum of 450 words as input and provide a 32 dimensional output of those words which belong in the top_words dictionary\n",
        "model.add(Embedding(MAX_NB_WORDS, EMBEDDING_DIM, input_length=X.shape[1]))\n",
        "model.add(Conv1D(32, 3, padding='same', activation='relu'))\n",
        "model.add(MaxPooling1D())\n",
        "model.add(Flatten())\n",
        "model.add(Dense(250, activation='relu'))\n",
        "model.add(Dense(2, activation='sigmoid'))"
      ],
      "execution_count": null,
      "outputs": []
    },
    {
      "cell_type": "code",
      "metadata": {
        "colab": {
          "base_uri": "https://localhost:8080/"
        },
        "id": "ACYDumgrFY11",
        "outputId": "4c643c3d-0c56-4517-9676-e94f76d4c775"
      },
      "source": [
        "model.compile(loss='binary_crossentropy', optimizer='adam', metrics=['accuracy'])\n",
        "model.summary()\n"
      ],
      "execution_count": null,
      "outputs": [
        {
          "output_type": "stream",
          "text": [
            "Model: \"sequential_1\"\n",
            "_________________________________________________________________\n",
            "Layer (type)                 Output Shape              Param #   \n",
            "=================================================================\n",
            "embedding_1 (Embedding)      (None, 250, 100)          5000000   \n",
            "_________________________________________________________________\n",
            "conv1d_1 (Conv1D)            (None, 250, 32)           9632      \n",
            "_________________________________________________________________\n",
            "max_pooling1d_1 (MaxPooling1 (None, 125, 32)           0         \n",
            "_________________________________________________________________\n",
            "flatten_1 (Flatten)          (None, 4000)              0         \n",
            "_________________________________________________________________\n",
            "dense_2 (Dense)              (None, 250)               1000250   \n",
            "_________________________________________________________________\n",
            "dense_3 (Dense)              (None, 2)                 502       \n",
            "=================================================================\n",
            "Total params: 6,010,384\n",
            "Trainable params: 6,010,384\n",
            "Non-trainable params: 0\n",
            "_________________________________________________________________\n"
          ],
          "name": "stdout"
        }
      ]
    },
    {
      "cell_type": "code",
      "metadata": {
        "colab": {
          "base_uri": "https://localhost:8080/"
        },
        "id": "zclmpf6LFjPD",
        "outputId": "6f22e3ce-5d93-43ed-8d53-14d851f369ed"
      },
      "source": [
        "model.fit(X_train, Y_train, validation_data=(X_test, Y_test), epochs=2, batch_size=64, verbose=2,callbacks=[EarlyStopping(monitor='val_loss', patience=3, min_delta=0.0001)])\n",
        "# Getting score metrics from our model\n",
        "# scores = model.evaluate(X_test, Y_test, verbose=0)\n",
        "# Displays the accuracy of correct sentiment prediction over test data\n",
        "# print(\"Accuracy: %.2f%%\" % (scores[1]*100))"
      ],
      "execution_count": null,
      "outputs": [
        {
          "output_type": "stream",
          "text": [
            "Epoch 1/2\n",
            "10413/10413 - 1144s - loss: 0.4856 - accuracy: 0.7305 - val_loss: 0.4842 - val_accuracy: 0.7301\n",
            "Epoch 2/2\n",
            "10413/10413 - 1133s - loss: 0.4135 - accuracy: 0.7799 - val_loss: 0.4884 - val_accuracy: 0.7328\n"
          ],
          "name": "stdout"
        },
        {
          "output_type": "execute_result",
          "data": {
            "text/plain": [
              "<tensorflow.python.keras.callbacks.History at 0x7f028c8de828>"
            ]
          },
          "metadata": {
            "tags": []
          },
          "execution_count": 29
        },
        {
          "output_type": "stream",
          "text": [
            "Accuracy: 73.28%\n"
          ],
          "name": "stdout"
        }
      ]
    },
    {
      "cell_type": "code",
      "metadata": {
        "id": "JUTiEMbDREjt"
      },
      "source": [
        "model.save('CNNmodel.h5')"
      ],
      "execution_count": null,
      "outputs": []
    },
    {
      "cell_type": "code",
      "metadata": {
        "id": "IB3n_oSLRNFM"
      },
      "source": [
        "!mv CNNmodel.h5 drive/MyDrive/UGRA/"
      ],
      "execution_count": null,
      "outputs": []
    },
    {
      "cell_type": "markdown",
      "metadata": {
        "id": "B-Us6D1WEus4"
      },
      "source": [
        "#RNN"
      ]
    },
    {
      "cell_type": "code",
      "metadata": {
        "id": "uey9aLqiK_kW"
      },
      "source": [
        "!cp drive/MyDrive/UGRA/glove.6B.100d.txt ."
      ],
      "execution_count": null,
      "outputs": []
    },
    {
      "cell_type": "code",
      "metadata": {
        "id": "7YaqwgmPEyG0"
      },
      "source": [
        "import numpy as np\n",
        "import pandas as pd\n",
        "import pickle\n",
        "from collections import defaultdict\n",
        "import re\n",
        "from bs4 import BeautifulSoup\n",
        "import sys\n",
        "import os\n",
        "os.environ['KERAS_BACKEND']='theano'\n",
        "from keras.preprocessing.text import Tokenizer\n",
        "from keras.preprocessing.sequence import pad_sequences\n",
        "from keras.utils.np_utils import to_categorical\n",
        "from keras.layers import Embedding\n",
        "from keras.layers import Dense, Input, Flatten\n",
        "from keras.layers import Conv1D, MaxPooling1D, Embedding, Dropout, LSTM, GRU, Bidirectional\n",
        "from keras.models import Model\n",
        "from keras.callbacks import ModelCheckpoint\n",
        "import matplotlib.pyplot as plt\n",
        "plt.switch_backend('agg')\n",
        "from keras import backend as K\n",
        "from keras.engine.topology import Layer, InputSpec\n",
        "from keras import initializers\n",
        "%matplotlib inline"
      ],
      "execution_count": null,
      "outputs": []
    },
    {
      "cell_type": "code",
      "metadata": {
        "id": "gnUOFHjFE4sl"
      },
      "source": [
        "MAX_SEQUENCE_LENGTH = 250\n",
        "MAX_NB_WORDS = 50000\n",
        "EMBEDDING_DIM = 100\n",
        "VALIDATION_SPLIT = 0.1"
      ],
      "execution_count": null,
      "outputs": []
    },
    {
      "cell_type": "code",
      "metadata": {
        "colab": {
          "base_uri": "https://localhost:8080/"
        },
        "id": "xt954h0WE6te",
        "outputId": "fab406b4-c80e-4ba4-f130-d1c26f81283b"
      },
      "source": [
        "print('Shape of dataset ',df.shape)\n",
        "print(df.columns)\n",
        "print('No. of unique classes',len(set(df['label'])))"
      ],
      "execution_count": null,
      "outputs": [
        {
          "output_type": "stream",
          "text": [
            "Shape of dataset  (740444, 2)\n",
            "Index(['text', 'label'], dtype='object')\n",
            "No. of unique classes 2\n"
          ],
          "name": "stdout"
        }
      ]
    },
    {
      "cell_type": "code",
      "metadata": {
        "id": "r7SaWeAdE8Uo"
      },
      "source": [
        "macronum=sorted(set(df['label']))\n",
        "macro_to_id = dict((note, number) for number, note in enumerate(macronum))\n",
        "\n",
        "def fun(i):\n",
        "    return macro_to_id[i]\n",
        "\n",
        "df['label']=df['label'].apply(fun)"
      ],
      "execution_count": null,
      "outputs": []
    },
    {
      "cell_type": "code",
      "metadata": {
        "id": "6E2KJJzFE-SW"
      },
      "source": [
        "texts = df.text.to_list()\n",
        "labels = df.label.to_list()"
      ],
      "execution_count": null,
      "outputs": []
    },
    {
      "cell_type": "code",
      "metadata": {
        "colab": {
          "base_uri": "https://localhost:8080/"
        },
        "id": "7_G_Ks9JFBJx",
        "outputId": "dea6511c-41cd-4563-ce92-4dccd6b27aa9"
      },
      "source": [
        "tokenizer = Tokenizer(num_words=MAX_NB_WORDS)\n",
        "tokenizer.fit_on_texts(texts)\n",
        "sequences = tokenizer.texts_to_sequences(texts)\n",
        "\n",
        "word_index = tokenizer.word_index\n",
        "\n",
        "print('Number of Unique Tokens',len(word_index))"
      ],
      "execution_count": null,
      "outputs": [
        {
          "output_type": "stream",
          "text": [
            "Number of Unique Tokens 398727\n"
          ],
          "name": "stdout"
        }
      ]
    },
    {
      "cell_type": "code",
      "metadata": {
        "colab": {
          "base_uri": "https://localhost:8080/"
        },
        "id": "XwnJBr1JFDDp",
        "outputId": "3a60ae1c-24d3-45e4-e5c8-c955c86bf893"
      },
      "source": [
        "data = pad_sequences(sequences, maxlen=MAX_SEQUENCE_LENGTH)\n",
        "\n",
        "\n",
        "labels = to_categorical(np.asarray(labels))\n",
        "print('Shape of Data Tensor:', data.shape)\n",
        "print('Shape of Label Tensor:', labels.shape)\n",
        "\n",
        "indices = np.arange(data.shape[0])\n",
        "np.random.shuffle(indices)\n",
        "data = data[indices]\n",
        "labels = labels[indices]\n",
        "nb_validation_samples = int(VALIDATION_SPLIT * data.shape[0])\n",
        "\n",
        "x_train = data[:-nb_validation_samples]\n",
        "y_train = labels[:-nb_validation_samples]\n",
        "x_val = data[-nb_validation_samples:]\n",
        "y_val = labels[-nb_validation_samples:]"
      ],
      "execution_count": null,
      "outputs": [
        {
          "output_type": "stream",
          "text": [
            "Shape of Data Tensor: (740444, 250)\n",
            "Shape of Label Tensor: (740444, 2)\n"
          ],
          "name": "stdout"
        }
      ]
    },
    {
      "cell_type": "code",
      "metadata": {
        "colab": {
          "base_uri": "https://localhost:8080/"
        },
        "id": "dgDbOiZ-FLBF",
        "outputId": "a276c97b-d3ba-4898-ea56-775a174a5a98"
      },
      "source": [
        "embeddings_index = {}\n",
        "f = open('glove.6B.100d.txt',encoding='utf8')\n",
        "for line in f:\n",
        "    values = line.split()\n",
        "    word = values[0]\n",
        "    coefs = np.asarray(values[1:], dtype='float32')\n",
        "    embeddings_index[word] = coefs\n",
        "f.close()\n",
        "\n",
        "print('Total %s word vectors in Glove 6B 100d.' % len(embeddings_index))"
      ],
      "execution_count": null,
      "outputs": [
        {
          "output_type": "stream",
          "text": [
            "Total 400000 word vectors in Glove 6B 100d.\n"
          ],
          "name": "stdout"
        }
      ]
    },
    {
      "cell_type": "code",
      "metadata": {
        "id": "DuOHISFUFNmw"
      },
      "source": [
        "embedding_matrix = np.random.random((len(word_index) + 1, EMBEDDING_DIM))\n",
        "for word, i in word_index.items():\n",
        "    embedding_vector = embeddings_index.get(word)\n",
        "    if embedding_vector is not None:\n",
        "        # words not found in embedding index will be all-zeros.\n",
        "        embedding_matrix[i] = embedding_vector"
      ],
      "execution_count": null,
      "outputs": []
    },
    {
      "cell_type": "code",
      "metadata": {
        "id": "oIL63mCxFP7P"
      },
      "source": [
        "embedding_layer = Embedding(len(word_index) + 1,\n",
        "                            EMBEDDING_DIM,\n",
        "                            weights=[embedding_matrix],\n",
        "                            input_length=MAX_SEQUENCE_LENGTH,\n",
        "                            trainable=True)"
      ],
      "execution_count": null,
      "outputs": []
    },
    {
      "cell_type": "code",
      "metadata": {
        "colab": {
          "base_uri": "https://localhost:8080/"
        },
        "id": "bM7TDaWeFTNO",
        "outputId": "2acb5794-fb36-4371-88b9-fc4fbefa5743"
      },
      "source": [
        "sequence_input = Input(shape=(MAX_SEQUENCE_LENGTH,), dtype='int32')\n",
        "embedded_sequences = embedding_layer(sequence_input)\n",
        "l_lstm = Bidirectional(LSTM(100))(embedded_sequences)\n",
        "preds = Dense(len(macronum), activation='softmax')(l_lstm)\n",
        "model = Model(sequence_input, preds)\n",
        "model.compile(loss='categorical_crossentropy',\n",
        "              optimizer='rmsprop',\n",
        "              metrics=['acc'])\n",
        "\n",
        "print(\"Bidirectional LSTM\")\n",
        "model.summary()"
      ],
      "execution_count": null,
      "outputs": [
        {
          "output_type": "stream",
          "text": [
            "Bidirectional LSTM\n",
            "Model: \"model\"\n",
            "_________________________________________________________________\n",
            "Layer (type)                 Output Shape              Param #   \n",
            "=================================================================\n",
            "input_1 (InputLayer)         [(None, 250)]             0         \n",
            "_________________________________________________________________\n",
            "embedding (Embedding)        (None, 250, 100)          39872800  \n",
            "_________________________________________________________________\n",
            "bidirectional (Bidirectional (None, 200)               160800    \n",
            "_________________________________________________________________\n",
            "dense (Dense)                (None, 2)                 402       \n",
            "=================================================================\n",
            "Total params: 40,034,002\n",
            "Trainable params: 40,034,002\n",
            "Non-trainable params: 0\n",
            "_________________________________________________________________\n"
          ],
          "name": "stdout"
        }
      ]
    },
    {
      "cell_type": "code",
      "metadata": {
        "colab": {
          "base_uri": "https://localhost:8080/"
        },
        "id": "2nhwhFfOFaPg",
        "outputId": "bf8583b9-6db1-41a4-fc54-2e6798a12f69"
      },
      "source": [
        "cp=ModelCheckpoint('model_rnn.hdf5',monitor='val_acc',verbose=1,save_best_only=True)\n",
        "history=model.fit(x_train, y_train, validation_data=(x_val, y_val),epochs=5, batch_size=64,callbacks=[cp])"
      ],
      "execution_count": null,
      "outputs": [
        {
          "output_type": "stream",
          "text": [
            "Epoch 1/5\n",
            "10413/10413 [==============================] - 1536s 147ms/step - loss: 0.5853 - acc: 0.6587 - val_loss: 0.5127 - val_acc: 0.7133\n",
            "\n",
            "Epoch 00001: val_acc improved from -inf to 0.71327, saving model to model_rnn.hdf5\n",
            "Epoch 2/5\n",
            "10413/10413 [==============================] - 1350s 130ms/step - loss: 0.4956 - acc: 0.7273 - val_loss: 0.5020 - val_acc: 0.7226\n",
            "\n",
            "Epoch 00002: val_acc improved from 0.71327 to 0.72261, saving model to model_rnn.hdf5\n",
            "Epoch 3/5\n",
            "   71/10413 [..............................] - ETA: 21:32 - loss: 0.4714 - acc: 0.7511"
          ],
          "name": "stdout"
        }
      ]
    },
    {
      "cell_type": "code",
      "metadata": {
        "id": "F98eQD-CFUEe"
      },
      "source": [
        "fig1 = plt.figure()\n",
        "plt.plot(history.history['loss'],'r',linewidth=3.0)\n",
        "plt.plot(history.history['val_loss'],'b',linewidth=3.0)\n",
        "plt.legend(['Training loss', 'Validation Loss'],fontsize=18)\n",
        "plt.xlabel('Epochs ',fontsize=16)\n",
        "plt.ylabel('Loss',fontsize=16)\n",
        "plt.title('Loss Curves :RNN',fontsize=16)\n",
        "fig1.savefig('loss_rnn.png')\n",
        "plt.show()"
      ],
      "execution_count": null,
      "outputs": []
    },
    {
      "cell_type": "code",
      "metadata": {
        "id": "s-cCQ22tFgMV"
      },
      "source": [
        "fig2=plt.figure()\n",
        "plt.plot(history.history['acc'],'r',linewidth=3.0)\n",
        "plt.plot(history.history['val_acc'],'b',linewidth=3.0)\n",
        "plt.legend(['Training Accuracy', 'Validation Accuracy'],fontsize=18)\n",
        "plt.xlabel('Epochs ',fontsize=16)\n",
        "plt.ylabel('Accuracy',fontsize=16)\n",
        "plt.title('Accuracy Curves : RNN',fontsize=16)\n",
        "fig2.savefig('accuracy_rnn.png')\n",
        "plt.show()"
      ],
      "execution_count": null,
      "outputs": []
    },
    {
      "cell_type": "code",
      "metadata": {
        "id": "At_fIXxYFjxj"
      },
      "source": [
        "#from keras.utils.vis_utils import plot_model\n",
        "#plot_model(model, to_file='rnn_model.png', show_shapes=True, show_layer_names=True)"
      ],
      "execution_count": null,
      "outputs": []
    },
    {
      "cell_type": "code",
      "metadata": {
        "id": "otjFmpqxFl-R"
      },
      "source": [
        "from PIL import Image\n",
        "display(Image.open('rnn_model.png'))"
      ],
      "execution_count": null,
      "outputs": []
    }
  ]
}